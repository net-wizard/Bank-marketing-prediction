{
 "cells": [
  {
   "cell_type": "markdown",
   "metadata": {},
   "source": [
    "# Bank Marketing Prediction "
   ]
  },
  {
   "cell_type": "markdown",
   "metadata": {},
   "source": [
    "<b>Abstract:</b> The data is related with direct marketing campaigns (phone calls) of a Portuguese banking institution. The classification  goal is to make a predictive model to predict if the customer will respond positively to the campaign or not. The target variable is “response”. \n",
    "\n"
   ]
  },
  {
   "cell_type": "markdown",
   "metadata": {},
   "source": [
    "<h1> Import Library"
   ]
  },
  {
   "cell_type": "code",
   "execution_count": 78,
   "metadata": {},
   "outputs": [],
   "source": [
    "import numpy as np\n",
    "import pandas as pd\n",
    "import seaborn as sns\n",
    "import matplotlib.pyplot as plt\n",
    "import os\n",
    "import warnings\n",
    "warnings.simplefilter(action='ignore', category=FutureWarning)\n",
    "pd.options.mode.chained_assignment = None"
   ]
  },
  {
   "cell_type": "markdown",
   "metadata": {},
   "source": [
    "<h1> Data"
   ]
  },
  {
   "cell_type": "markdown",
   "metadata": {},
   "source": [
    "<p class=\"normal\">The data is related with direct marketing campaigns of a Portuguese banking institution. The marketing campaigns were based on phone calls. Often, more than one contact to the same client was required, in order to access if the product (bank term deposit) would be ('yes') or not ('no') subscribed. "
   ]
  },
  {
   "cell_type": "code",
   "execution_count": 79,
   "metadata": {},
   "outputs": [
    {
     "name": "stdout",
     "output_type": "stream",
     "text": [
      "['.ipynb_checkpoints', 'Bank marketing prediction.pdf', 'Bank marketing prediction.zip', 'bank-marketing.csv', 'Data dictionary.txt', 'ML Project 1.ipynb']\n"
     ]
    }
   ],
   "source": [
    "print(os.listdir())"
   ]
  },
  {
   "cell_type": "code",
   "execution_count": 80,
   "metadata": {},
   "outputs": [],
   "source": [
    "df = pd.read_csv('bank-marketing.csv')"
   ]
  },
  {
   "cell_type": "code",
   "execution_count": 81,
   "metadata": {},
   "outputs": [
    {
     "data": {
      "text/html": [
       "<div>\n",
       "<style scoped>\n",
       "    .dataframe tbody tr th:only-of-type {\n",
       "        vertical-align: middle;\n",
       "    }\n",
       "\n",
       "    .dataframe tbody tr th {\n",
       "        vertical-align: top;\n",
       "    }\n",
       "\n",
       "    .dataframe thead th {\n",
       "        text-align: right;\n",
       "    }\n",
       "</style>\n",
       "<table border=\"1\" class=\"dataframe\">\n",
       "  <thead>\n",
       "    <tr style=\"text-align: right;\">\n",
       "      <th></th>\n",
       "      <th>age</th>\n",
       "      <th>job</th>\n",
       "      <th>salary</th>\n",
       "      <th>marital</th>\n",
       "      <th>education</th>\n",
       "      <th>targeted</th>\n",
       "      <th>default</th>\n",
       "      <th>balance</th>\n",
       "      <th>housing</th>\n",
       "      <th>loan</th>\n",
       "      <th>contact</th>\n",
       "      <th>day</th>\n",
       "      <th>month</th>\n",
       "      <th>duration</th>\n",
       "      <th>campaign</th>\n",
       "      <th>pdays</th>\n",
       "      <th>previous</th>\n",
       "      <th>poutcome</th>\n",
       "      <th>response</th>\n",
       "    </tr>\n",
       "  </thead>\n",
       "  <tbody>\n",
       "    <tr>\n",
       "      <th>0</th>\n",
       "      <td>58</td>\n",
       "      <td>management</td>\n",
       "      <td>100000</td>\n",
       "      <td>married</td>\n",
       "      <td>tertiary</td>\n",
       "      <td>yes</td>\n",
       "      <td>no</td>\n",
       "      <td>2143</td>\n",
       "      <td>yes</td>\n",
       "      <td>no</td>\n",
       "      <td>unknown</td>\n",
       "      <td>5</td>\n",
       "      <td>may</td>\n",
       "      <td>261</td>\n",
       "      <td>1</td>\n",
       "      <td>-1</td>\n",
       "      <td>0</td>\n",
       "      <td>unknown</td>\n",
       "      <td>no</td>\n",
       "    </tr>\n",
       "    <tr>\n",
       "      <th>1</th>\n",
       "      <td>44</td>\n",
       "      <td>technician</td>\n",
       "      <td>60000</td>\n",
       "      <td>single</td>\n",
       "      <td>secondary</td>\n",
       "      <td>yes</td>\n",
       "      <td>no</td>\n",
       "      <td>29</td>\n",
       "      <td>yes</td>\n",
       "      <td>no</td>\n",
       "      <td>unknown</td>\n",
       "      <td>5</td>\n",
       "      <td>may</td>\n",
       "      <td>151</td>\n",
       "      <td>1</td>\n",
       "      <td>-1</td>\n",
       "      <td>0</td>\n",
       "      <td>unknown</td>\n",
       "      <td>no</td>\n",
       "    </tr>\n",
       "    <tr>\n",
       "      <th>2</th>\n",
       "      <td>33</td>\n",
       "      <td>entrepreneur</td>\n",
       "      <td>120000</td>\n",
       "      <td>married</td>\n",
       "      <td>secondary</td>\n",
       "      <td>yes</td>\n",
       "      <td>no</td>\n",
       "      <td>2</td>\n",
       "      <td>yes</td>\n",
       "      <td>yes</td>\n",
       "      <td>unknown</td>\n",
       "      <td>5</td>\n",
       "      <td>may</td>\n",
       "      <td>76</td>\n",
       "      <td>1</td>\n",
       "      <td>-1</td>\n",
       "      <td>0</td>\n",
       "      <td>unknown</td>\n",
       "      <td>no</td>\n",
       "    </tr>\n",
       "    <tr>\n",
       "      <th>3</th>\n",
       "      <td>47</td>\n",
       "      <td>blue-collar</td>\n",
       "      <td>20000</td>\n",
       "      <td>married</td>\n",
       "      <td>unknown</td>\n",
       "      <td>no</td>\n",
       "      <td>no</td>\n",
       "      <td>1506</td>\n",
       "      <td>yes</td>\n",
       "      <td>no</td>\n",
       "      <td>unknown</td>\n",
       "      <td>5</td>\n",
       "      <td>may</td>\n",
       "      <td>92</td>\n",
       "      <td>1</td>\n",
       "      <td>-1</td>\n",
       "      <td>0</td>\n",
       "      <td>unknown</td>\n",
       "      <td>no</td>\n",
       "    </tr>\n",
       "    <tr>\n",
       "      <th>4</th>\n",
       "      <td>33</td>\n",
       "      <td>unknown</td>\n",
       "      <td>0</td>\n",
       "      <td>single</td>\n",
       "      <td>unknown</td>\n",
       "      <td>no</td>\n",
       "      <td>no</td>\n",
       "      <td>1</td>\n",
       "      <td>no</td>\n",
       "      <td>no</td>\n",
       "      <td>unknown</td>\n",
       "      <td>5</td>\n",
       "      <td>may</td>\n",
       "      <td>198</td>\n",
       "      <td>1</td>\n",
       "      <td>-1</td>\n",
       "      <td>0</td>\n",
       "      <td>unknown</td>\n",
       "      <td>no</td>\n",
       "    </tr>\n",
       "  </tbody>\n",
       "</table>\n",
       "</div>"
      ],
      "text/plain": [
       "   age           job  salary  marital  education targeted default  balance  \\\n",
       "0   58    management  100000  married   tertiary      yes      no     2143   \n",
       "1   44    technician   60000   single  secondary      yes      no       29   \n",
       "2   33  entrepreneur  120000  married  secondary      yes      no        2   \n",
       "3   47   blue-collar   20000  married    unknown       no      no     1506   \n",
       "4   33       unknown       0   single    unknown       no      no        1   \n",
       "\n",
       "  housing loan  contact  day month  duration  campaign  pdays  previous  \\\n",
       "0     yes   no  unknown    5   may       261         1     -1         0   \n",
       "1     yes   no  unknown    5   may       151         1     -1         0   \n",
       "2     yes  yes  unknown    5   may        76         1     -1         0   \n",
       "3     yes   no  unknown    5   may        92         1     -1         0   \n",
       "4      no   no  unknown    5   may       198         1     -1         0   \n",
       "\n",
       "  poutcome response  \n",
       "0  unknown       no  \n",
       "1  unknown       no  \n",
       "2  unknown       no  \n",
       "3  unknown       no  \n",
       "4  unknown       no  "
      ]
     },
     "execution_count": 81,
     "metadata": {},
     "output_type": "execute_result"
    }
   ],
   "source": [
    "df.head()"
   ]
  },
  {
   "cell_type": "code",
   "execution_count": 82,
   "metadata": {},
   "outputs": [
    {
     "name": "stdout",
     "output_type": "stream",
     "text": [
      "<class 'pandas.core.frame.DataFrame'>\n",
      "RangeIndex: 45211 entries, 0 to 45210\n",
      "Data columns (total 19 columns):\n",
      " #   Column     Non-Null Count  Dtype \n",
      "---  ------     --------------  ----- \n",
      " 0   age        45211 non-null  int64 \n",
      " 1   job        45211 non-null  object\n",
      " 2   salary     45211 non-null  int64 \n",
      " 3   marital    45211 non-null  object\n",
      " 4   education  45211 non-null  object\n",
      " 5   targeted   45211 non-null  object\n",
      " 6   default    45211 non-null  object\n",
      " 7   balance    45211 non-null  int64 \n",
      " 8   housing    45211 non-null  object\n",
      " 9   loan       45211 non-null  object\n",
      " 10  contact    45211 non-null  object\n",
      " 11  day        45211 non-null  int64 \n",
      " 12  month      45211 non-null  object\n",
      " 13  duration   45211 non-null  int64 \n",
      " 14  campaign   45211 non-null  int64 \n",
      " 15  pdays      45211 non-null  int64 \n",
      " 16  previous   45211 non-null  int64 \n",
      " 17  poutcome   45211 non-null  object\n",
      " 18  response   45211 non-null  object\n",
      "dtypes: int64(8), object(11)\n",
      "memory usage: 6.6+ MB\n"
     ]
    }
   ],
   "source": [
    "df.info()"
   ]
  },
  {
   "cell_type": "code",
   "execution_count": 83,
   "metadata": {},
   "outputs": [
    {
     "data": {
      "text/html": [
       "<div>\n",
       "<style scoped>\n",
       "    .dataframe tbody tr th:only-of-type {\n",
       "        vertical-align: middle;\n",
       "    }\n",
       "\n",
       "    .dataframe tbody tr th {\n",
       "        vertical-align: top;\n",
       "    }\n",
       "\n",
       "    .dataframe thead th {\n",
       "        text-align: right;\n",
       "    }\n",
       "</style>\n",
       "<table border=\"1\" class=\"dataframe\">\n",
       "  <thead>\n",
       "    <tr style=\"text-align: right;\">\n",
       "      <th></th>\n",
       "      <th>age</th>\n",
       "      <th>salary</th>\n",
       "      <th>balance</th>\n",
       "      <th>day</th>\n",
       "      <th>duration</th>\n",
       "      <th>campaign</th>\n",
       "      <th>pdays</th>\n",
       "      <th>previous</th>\n",
       "    </tr>\n",
       "  </thead>\n",
       "  <tbody>\n",
       "    <tr>\n",
       "      <th>count</th>\n",
       "      <td>45211.000000</td>\n",
       "      <td>45211.000000</td>\n",
       "      <td>45211.000000</td>\n",
       "      <td>45211.000000</td>\n",
       "      <td>45211.000000</td>\n",
       "      <td>45211.000000</td>\n",
       "      <td>45211.000000</td>\n",
       "      <td>45211.000000</td>\n",
       "    </tr>\n",
       "    <tr>\n",
       "      <th>mean</th>\n",
       "      <td>40.936210</td>\n",
       "      <td>57006.171065</td>\n",
       "      <td>1362.272058</td>\n",
       "      <td>15.806419</td>\n",
       "      <td>258.163080</td>\n",
       "      <td>2.763841</td>\n",
       "      <td>40.197828</td>\n",
       "      <td>0.580323</td>\n",
       "    </tr>\n",
       "    <tr>\n",
       "      <th>std</th>\n",
       "      <td>10.618762</td>\n",
       "      <td>32085.718415</td>\n",
       "      <td>3044.765829</td>\n",
       "      <td>8.322476</td>\n",
       "      <td>257.527812</td>\n",
       "      <td>3.098021</td>\n",
       "      <td>100.128746</td>\n",
       "      <td>2.303441</td>\n",
       "    </tr>\n",
       "    <tr>\n",
       "      <th>min</th>\n",
       "      <td>18.000000</td>\n",
       "      <td>0.000000</td>\n",
       "      <td>-8019.000000</td>\n",
       "      <td>1.000000</td>\n",
       "      <td>0.000000</td>\n",
       "      <td>1.000000</td>\n",
       "      <td>-1.000000</td>\n",
       "      <td>0.000000</td>\n",
       "    </tr>\n",
       "    <tr>\n",
       "      <th>25%</th>\n",
       "      <td>33.000000</td>\n",
       "      <td>20000.000000</td>\n",
       "      <td>72.000000</td>\n",
       "      <td>8.000000</td>\n",
       "      <td>103.000000</td>\n",
       "      <td>1.000000</td>\n",
       "      <td>-1.000000</td>\n",
       "      <td>0.000000</td>\n",
       "    </tr>\n",
       "    <tr>\n",
       "      <th>50%</th>\n",
       "      <td>39.000000</td>\n",
       "      <td>60000.000000</td>\n",
       "      <td>448.000000</td>\n",
       "      <td>16.000000</td>\n",
       "      <td>180.000000</td>\n",
       "      <td>2.000000</td>\n",
       "      <td>-1.000000</td>\n",
       "      <td>0.000000</td>\n",
       "    </tr>\n",
       "    <tr>\n",
       "      <th>75%</th>\n",
       "      <td>48.000000</td>\n",
       "      <td>70000.000000</td>\n",
       "      <td>1428.000000</td>\n",
       "      <td>21.000000</td>\n",
       "      <td>319.000000</td>\n",
       "      <td>3.000000</td>\n",
       "      <td>-1.000000</td>\n",
       "      <td>0.000000</td>\n",
       "    </tr>\n",
       "    <tr>\n",
       "      <th>max</th>\n",
       "      <td>95.000000</td>\n",
       "      <td>120000.000000</td>\n",
       "      <td>102127.000000</td>\n",
       "      <td>31.000000</td>\n",
       "      <td>4918.000000</td>\n",
       "      <td>63.000000</td>\n",
       "      <td>871.000000</td>\n",
       "      <td>275.000000</td>\n",
       "    </tr>\n",
       "  </tbody>\n",
       "</table>\n",
       "</div>"
      ],
      "text/plain": [
       "                age         salary        balance           day      duration  \\\n",
       "count  45211.000000   45211.000000   45211.000000  45211.000000  45211.000000   \n",
       "mean      40.936210   57006.171065    1362.272058     15.806419    258.163080   \n",
       "std       10.618762   32085.718415    3044.765829      8.322476    257.527812   \n",
       "min       18.000000       0.000000   -8019.000000      1.000000      0.000000   \n",
       "25%       33.000000   20000.000000      72.000000      8.000000    103.000000   \n",
       "50%       39.000000   60000.000000     448.000000     16.000000    180.000000   \n",
       "75%       48.000000   70000.000000    1428.000000     21.000000    319.000000   \n",
       "max       95.000000  120000.000000  102127.000000     31.000000   4918.000000   \n",
       "\n",
       "           campaign         pdays      previous  \n",
       "count  45211.000000  45211.000000  45211.000000  \n",
       "mean       2.763841     40.197828      0.580323  \n",
       "std        3.098021    100.128746      2.303441  \n",
       "min        1.000000     -1.000000      0.000000  \n",
       "25%        1.000000     -1.000000      0.000000  \n",
       "50%        2.000000     -1.000000      0.000000  \n",
       "75%        3.000000     -1.000000      0.000000  \n",
       "max       63.000000    871.000000    275.000000  "
      ]
     },
     "execution_count": 83,
     "metadata": {},
     "output_type": "execute_result"
    }
   ],
   "source": [
    "df.describe()"
   ]
  },
  {
   "cell_type": "markdown",
   "metadata": {},
   "source": [
    "<h3>Attribute Information:"
   ]
  },
  {
   "cell_type": "markdown",
   "metadata": {},
   "source": [
    "Input variables:<br>\n",
    "<h4> bank client data:</h4><br>\n",
    "1 - age (numeric)<br>\n",
    "2 - job : type of job (categorical: 'admin.','blue-collar','entrepreneur','housemaid','management','retired','self-employed','services','student','technician','unemployed','unknown')<br>\n",
    "3 - salary : salary(numeric)<br>\n",
    "4 - marital : marital status (categorical: 'divorced','married','single','unknown'; note: 'divorced' means divorced or widowed)<br>\n",
    "5 - education (categorical: 'basic.4y','basic.6y','basic.9y','high.school','illiterate','professional.course','university.degree','unknown')<br>\n",
    "6 - targeted (categorical: 'no','yes','unknown')<br>\n",
    "7 - default: has credit in default? (categorical: 'no','yes','unknown')<br>\n",
    "8 - balance : average yearly balance, in euros (numeric)<br>\n",
    "9 - housing: has housing loan? (categorical: 'no','yes','unknown')<br>\n",
    "10 - loan: has personal loan? (categorical: 'no','yes','unknown')<br>\n",
    "<h4>related with the last contact of the current campaign:</h4><br>\n",
    "11 - contact: contact communication type (categorical: 'cellular','telephone'))<br>\n",
    "12 - day: last contact day of the week (categorical: 'mon','tue','wed','thu','fri'))<br>\n",
    "13 - month: last contact month of year (categorical: 'jan', 'feb', 'mar', ..., 'nov', 'dec'))<br>\n",
    "14 - duration: last contact duration, in seconds (numeric). Important note: this attribute highly affects the output target (e.g., if duration=0 then y='no'). Yet, the duration is not known before a call is performed. Also, after the end of the call y is obviously known. Thus, this input should only be included for benchmark purposes and should be discarded if the intention is to have a realistic predictive model.)<br>\n",
    "<h4> other attributes:</h4><br>\n",
    "15 - campaign: number of contacts performed during this campaign and for this client (numeric, includes last contact))<br>\n",
    "16 - pdays: number of days that passed by after the client was last contacted from a previous campaign (numeric; -1 means client was not previously contacted)<br>\n",
    "17 - previous: number of contacts performed before this campaign and for this client (numeric))<br>\n",
    "18 - poutcome: outcome of the previous marketing campaign (categorical: 'failure','other','success','unknown))<br>\n",
    "<br>\n",
    "Output variables:<br>\n",
    "19 - response : has the customer respond positively (categorical: 'no','yes','unknown')<br>"
   ]
  },
  {
   "cell_type": "markdown",
   "metadata": {},
   "source": [
    "<h2>Univariate Analysis"
   ]
  },
  {
   "cell_type": "markdown",
   "metadata": {},
   "source": [
    "<b>Describe the pdays column, make note of the mean, median and minimum values. Anything fishy in the values? "
   ]
  },
  {
   "cell_type": "code",
   "execution_count": 84,
   "metadata": {},
   "outputs": [
    {
     "data": {
      "text/plain": [
       "count    45211.000000\n",
       "mean        40.197828\n",
       "std        100.128746\n",
       "min         -1.000000\n",
       "25%         -1.000000\n",
       "50%         -1.000000\n",
       "75%         -1.000000\n",
       "max        871.000000\n",
       "Name: pdays, dtype: float64"
      ]
     },
     "execution_count": 84,
     "metadata": {},
     "output_type": "execute_result"
    }
   ],
   "source": [
    "df.pdays.describe()"
   ]
  },
  {
   "cell_type": "markdown",
   "metadata": {},
   "source": [
    "<b>Takeaway </b> <br>\n",
    "We can see that 75% values of pdays are -1 and -1 means client was not previously contacted.\n",
    "Here if we want to predict if the customer will respond positively to the campaign or not then we need to make decison on peaople who did have campaign previously so people who wasn't contacted before will have negative impact on prediction they need to be excluded"
   ]
  },
  {
   "cell_type": "markdown",
   "metadata": {},
   "source": [
    "<B>Describe the pdays column again, this time limiting yourself to the relevant values of pdays. How different are the mean and the median values? "
   ]
  },
  {
   "cell_type": "markdown",
   "metadata": {},
   "source": [
    "filtering -1 values"
   ]
  },
  {
   "cell_type": "code",
   "execution_count": 85,
   "metadata": {},
   "outputs": [],
   "source": [
    "df1=df[df['pdays'] > 0]"
   ]
  },
  {
   "cell_type": "code",
   "execution_count": 86,
   "metadata": {},
   "outputs": [
    {
     "data": {
      "text/html": [
       "<div>\n",
       "<style scoped>\n",
       "    .dataframe tbody tr th:only-of-type {\n",
       "        vertical-align: middle;\n",
       "    }\n",
       "\n",
       "    .dataframe tbody tr th {\n",
       "        vertical-align: top;\n",
       "    }\n",
       "\n",
       "    .dataframe thead th {\n",
       "        text-align: right;\n",
       "    }\n",
       "</style>\n",
       "<table border=\"1\" class=\"dataframe\">\n",
       "  <thead>\n",
       "    <tr style=\"text-align: right;\">\n",
       "      <th></th>\n",
       "      <th>age</th>\n",
       "      <th>job</th>\n",
       "      <th>salary</th>\n",
       "      <th>marital</th>\n",
       "      <th>education</th>\n",
       "      <th>targeted</th>\n",
       "      <th>default</th>\n",
       "      <th>balance</th>\n",
       "      <th>housing</th>\n",
       "      <th>loan</th>\n",
       "      <th>contact</th>\n",
       "      <th>day</th>\n",
       "      <th>month</th>\n",
       "      <th>duration</th>\n",
       "      <th>campaign</th>\n",
       "      <th>pdays</th>\n",
       "      <th>previous</th>\n",
       "      <th>poutcome</th>\n",
       "      <th>response</th>\n",
       "    </tr>\n",
       "  </thead>\n",
       "  <tbody>\n",
       "    <tr>\n",
       "      <th>24060</th>\n",
       "      <td>33</td>\n",
       "      <td>admin.</td>\n",
       "      <td>50000</td>\n",
       "      <td>married</td>\n",
       "      <td>tertiary</td>\n",
       "      <td>yes</td>\n",
       "      <td>no</td>\n",
       "      <td>882</td>\n",
       "      <td>no</td>\n",
       "      <td>no</td>\n",
       "      <td>telephone</td>\n",
       "      <td>21</td>\n",
       "      <td>oct</td>\n",
       "      <td>39</td>\n",
       "      <td>1</td>\n",
       "      <td>151</td>\n",
       "      <td>3</td>\n",
       "      <td>failure</td>\n",
       "      <td>no</td>\n",
       "    </tr>\n",
       "    <tr>\n",
       "      <th>24062</th>\n",
       "      <td>42</td>\n",
       "      <td>admin.</td>\n",
       "      <td>50000</td>\n",
       "      <td>single</td>\n",
       "      <td>secondary</td>\n",
       "      <td>yes</td>\n",
       "      <td>no</td>\n",
       "      <td>-247</td>\n",
       "      <td>yes</td>\n",
       "      <td>yes</td>\n",
       "      <td>telephone</td>\n",
       "      <td>21</td>\n",
       "      <td>oct</td>\n",
       "      <td>519</td>\n",
       "      <td>1</td>\n",
       "      <td>166</td>\n",
       "      <td>1</td>\n",
       "      <td>other</td>\n",
       "      <td>yes</td>\n",
       "    </tr>\n",
       "    <tr>\n",
       "      <th>24064</th>\n",
       "      <td>33</td>\n",
       "      <td>services</td>\n",
       "      <td>70000</td>\n",
       "      <td>married</td>\n",
       "      <td>secondary</td>\n",
       "      <td>yes</td>\n",
       "      <td>no</td>\n",
       "      <td>3444</td>\n",
       "      <td>yes</td>\n",
       "      <td>no</td>\n",
       "      <td>telephone</td>\n",
       "      <td>21</td>\n",
       "      <td>oct</td>\n",
       "      <td>144</td>\n",
       "      <td>1</td>\n",
       "      <td>91</td>\n",
       "      <td>4</td>\n",
       "      <td>failure</td>\n",
       "      <td>yes</td>\n",
       "    </tr>\n",
       "    <tr>\n",
       "      <th>24072</th>\n",
       "      <td>36</td>\n",
       "      <td>management</td>\n",
       "      <td>100000</td>\n",
       "      <td>married</td>\n",
       "      <td>tertiary</td>\n",
       "      <td>yes</td>\n",
       "      <td>no</td>\n",
       "      <td>2415</td>\n",
       "      <td>yes</td>\n",
       "      <td>no</td>\n",
       "      <td>telephone</td>\n",
       "      <td>22</td>\n",
       "      <td>oct</td>\n",
       "      <td>73</td>\n",
       "      <td>1</td>\n",
       "      <td>86</td>\n",
       "      <td>4</td>\n",
       "      <td>other</td>\n",
       "      <td>no</td>\n",
       "    </tr>\n",
       "    <tr>\n",
       "      <th>24077</th>\n",
       "      <td>36</td>\n",
       "      <td>management</td>\n",
       "      <td>100000</td>\n",
       "      <td>married</td>\n",
       "      <td>tertiary</td>\n",
       "      <td>yes</td>\n",
       "      <td>no</td>\n",
       "      <td>0</td>\n",
       "      <td>yes</td>\n",
       "      <td>no</td>\n",
       "      <td>telephone</td>\n",
       "      <td>23</td>\n",
       "      <td>oct</td>\n",
       "      <td>140</td>\n",
       "      <td>1</td>\n",
       "      <td>143</td>\n",
       "      <td>3</td>\n",
       "      <td>failure</td>\n",
       "      <td>yes</td>\n",
       "    </tr>\n",
       "  </tbody>\n",
       "</table>\n",
       "</div>"
      ],
      "text/plain": [
       "       age         job  salary  marital  education targeted default  balance  \\\n",
       "24060   33      admin.   50000  married   tertiary      yes      no      882   \n",
       "24062   42      admin.   50000   single  secondary      yes      no     -247   \n",
       "24064   33    services   70000  married  secondary      yes      no     3444   \n",
       "24072   36  management  100000  married   tertiary      yes      no     2415   \n",
       "24077   36  management  100000  married   tertiary      yes      no        0   \n",
       "\n",
       "      housing loan    contact  day month  duration  campaign  pdays  previous  \\\n",
       "24060      no   no  telephone   21   oct        39         1    151         3   \n",
       "24062     yes  yes  telephone   21   oct       519         1    166         1   \n",
       "24064     yes   no  telephone   21   oct       144         1     91         4   \n",
       "24072     yes   no  telephone   22   oct        73         1     86         4   \n",
       "24077     yes   no  telephone   23   oct       140         1    143         3   \n",
       "\n",
       "      poutcome response  \n",
       "24060  failure       no  \n",
       "24062    other      yes  \n",
       "24064  failure      yes  \n",
       "24072    other       no  \n",
       "24077  failure      yes  "
      ]
     },
     "execution_count": 86,
     "metadata": {},
     "output_type": "execute_result"
    }
   ],
   "source": [
    "df1.head()"
   ]
  },
  {
   "cell_type": "code",
   "execution_count": 87,
   "metadata": {},
   "outputs": [
    {
     "data": {
      "text/plain": [
       "count    8257.000000\n",
       "mean      224.577692\n",
       "std       115.344035\n",
       "min         1.000000\n",
       "25%       133.000000\n",
       "50%       194.000000\n",
       "75%       327.000000\n",
       "max       871.000000\n",
       "Name: pdays, dtype: float64"
      ]
     },
     "execution_count": 87,
     "metadata": {},
     "output_type": "execute_result"
    }
   ],
   "source": [
    "df1.pdays.describe()"
   ]
  },
  {
   "cell_type": "markdown",
   "metadata": {},
   "source": [
    "We can see drastic changes in mean and meadian while preiously mean and median was 40 and -1"
   ]
  },
  {
   "cell_type": "markdown",
   "metadata": {},
   "source": [
    "<b>Plot a horizontal bar graph with the median values of balance for each education level value. Which group has the highest median? "
   ]
  },
  {
   "cell_type": "code",
   "execution_count": 88,
   "metadata": {},
   "outputs": [
    {
     "data": {
      "text/plain": [
       "<AxesSubplot:ylabel='education'>"
      ]
     },
     "execution_count": 88,
     "metadata": {},
     "output_type": "execute_result"
    },
    {
     "data": {
      "image/png": "[encoded data removed]",
      "text/plain": [
       "<Figure size 432x288 with 1 Axes>"
      ]
     },
     "metadata": {
      "needs_background": "light"
     },
     "output_type": "display_data"
    }
   ],
   "source": [
    "df1.groupby(['education'])['balance'].median().plot.barh()"
   ]
  },
  {
   "cell_type": "markdown",
   "metadata": {},
   "source": [
    "customer with tertiary level of education has highest median value for balance"
   ]
  },
  {
   "cell_type": "markdown",
   "metadata": {},
   "source": [
    "<b>Make a box plot for pdays. Do you see any outliers? "
   ]
  },
  {
   "cell_type": "code",
   "execution_count": 89,
   "metadata": {},
   "outputs": [
    {
     "data": {
      "text/plain": [
       "<AxesSubplot:>"
      ]
     },
     "execution_count": 89,
     "metadata": {},
     "output_type": "execute_result"
    },
    {
     "data": {
      "image/png": "[encoded data removed]",
      "text/plain": [
       "<Figure size 432x288 with 1 Axes>"
      ]
     },
     "metadata": {
      "needs_background": "light"
     },
     "output_type": "display_data"
    }
   ],
   "source": [
    "df1.boxplot( column =['pdays'], grid = False) "
   ]
  },
  {
   "cell_type": "markdown",
   "metadata": {},
   "source": [
    "There are outliers in pdays"
   ]
  },
  {
   "cell_type": "markdown",
   "metadata": {},
   "source": [
    "<h2>Bi- variate Analysis</h2><br>\n",
    "    To identify the features that are directly associated with the target variable."
   ]
  },
  {
   "cell_type": "markdown",
   "metadata": {},
   "source": [
    "<b>Convert the response variable to a convenient form "
   ]
  },
  {
   "cell_type": "code",
   "execution_count": 90,
   "metadata": {},
   "outputs": [
    {
     "data": {
      "text/plain": [
       "no     0.769287\n",
       "yes    0.230713\n",
       "Name: response, dtype: float64"
      ]
     },
     "execution_count": 90,
     "metadata": {},
     "output_type": "execute_result"
    }
   ],
   "source": [
    "df1.response.value_counts(normalize=True)"
   ]
  },
  {
   "cell_type": "code",
   "execution_count": 91,
   "metadata": {},
   "outputs": [],
   "source": [
    "df1.replace({'response': {\"yes\": 1,'no':0}},inplace=True)"
   ]
  },
  {
   "cell_type": "code",
   "execution_count": 92,
   "metadata": {},
   "outputs": [
    {
     "data": {
      "text/plain": [
       "0    0.769287\n",
       "1    0.230713\n",
       "Name: response, dtype: float64"
      ]
     },
     "execution_count": 92,
     "metadata": {},
     "output_type": "execute_result"
    }
   ],
   "source": [
    "df1.response.value_counts(normalize=True)"
   ]
  },
  {
   "cell_type": "markdown",
   "metadata": {},
   "source": [
    "<b>Make suitable plots for associations with numerical features and categorical features’ "
   ]
  },
  {
   "cell_type": "code",
   "execution_count": 93,
   "metadata": {},
   "outputs": [],
   "source": [
    "# here we are seperating object and numerical data types \n",
    "obj_col = []\n",
    "num_col = []\n",
    "for col in df1.columns:\n",
    "    if df1[col].dtype=='O':\n",
    "        obj_col.append(col)\n",
    "    else:\n",
    "        num_col.append(col)"
   ]
  },
  {
   "cell_type": "code",
   "execution_count": 94,
   "metadata": {},
   "outputs": [
    {
     "name": "stdout",
     "output_type": "stream",
     "text": [
      "Object data type features  ['job', 'marital', 'education', 'targeted', 'default', 'housing', 'loan', 'contact', 'month', 'poutcome']\n",
      "Numerical data type features  ['age', 'salary', 'balance', 'day', 'duration', 'campaign', 'pdays', 'previous', 'response']\n"
     ]
    }
   ],
   "source": [
    "print(\"Object data type features \",obj_col)\n",
    "print(\"Numerical data type features \",num_col)"
   ]
  },
  {
   "cell_type": "code",
   "execution_count": 95,
   "metadata": {},
   "outputs": [
    {
     "data": {
      "image/png": "[encoded data removed]",
      "text/plain": [
       "<Figure size 576x432 with 1 Axes>"
      ]
     },
     "metadata": {
      "needs_background": "light"
     },
     "output_type": "display_data"
    },
    {
     "data": {
      "image/png": "[encoded data removed]",
      "text/plain": [
       "<Figure size 576x432 with 1 Axes>"
      ]
     },
     "metadata": {
      "needs_background": "light"
     },
     "output_type": "display_data"
    },
    {
     "data": {
      "image/png": "[encoded data removed]",
      "text/plain": [
       "<Figure size 576x432 with 1 Axes>"
      ]
     },
     "metadata": {
      "needs_background": "light"
     },
     "output_type": "display_data"
    },
    {
     "data": {
      "image/png": "[encoded data removed]",
      "text/plain": [
       "<Figure size 576x432 with 1 Axes>"
      ]
     },
     "metadata": {
      "needs_background": "light"
     },
     "output_type": "display_data"
    },
    {
     "data": {
      "image/png": "[encoded data removed]",
      "text/plain": [
       "<Figure size 576x432 with 1 Axes>"
      ]
     },
     "metadata": {
      "needs_background": "light"
     },
     "output_type": "display_data"
    },
    {
     "data": {
      "image/png": "[encoded data removed]",
      "text/plain": [
       "<Figure size 576x432 with 1 Axes>"
      ]
     },
     "metadata": {
      "needs_background": "light"
     },
     "output_type": "display_data"
    },
    {
     "data": {
      "image/png": "[encoded data removed]",
      "text/plain": [
       "<Figure size 576x432 with 1 Axes>"
      ]
     },
     "metadata": {
      "needs_background": "light"
     },
     "output_type": "display_data"
    },
    {
     "data": {
      "image/png": "[encoded data removed]",
      "text/plain": [
       "<Figure size 576x432 with 1 Axes>"
      ]
     },
     "metadata": {
      "needs_background": "light"
     },
     "output_type": "display_data"
    },
    {
     "data": {
      "image/png": "[encoded data removed]",
      "text/plain": [
       "<Figure size 576x432 with 1 Axes>"
      ]
     },
     "metadata": {
      "needs_background": "light"
     },
     "output_type": "display_data"
    }
   ],
   "source": [
    "from numpy import median\n",
    "for col in obj_col[1:]:\n",
    "    plt.figure(figsize=(8,6))\n",
    "    sns.violinplot(df1[col],df1[\"response\"])\n",
    "    plt.title(\"Response vs \"+col,fontsize=15)\n",
    "    plt.xlabel(col,fontsize=10)\n",
    "    plt.ylabel(\"Response\",fontsize=10)\n",
    "    plt.show()\n",
    "#sns.despine()\n",
    "# violin plots give best of both worlds \n",
    "# it gives boxplot and distribution of data like whether the data is skewed or not.\n",
    "# if normally distributed then it's the best you can get.\n",
    "# you can also use barplots in this case."
   ]
  },
  {
   "cell_type": "code",
   "execution_count": 96,
   "metadata": {},
   "outputs": [
    {
     "data": {
      "image/png": "[encoded data removed]",
      "text/plain": [
       "<Figure size 576x432 with 2 Axes>"
      ]
     },
     "metadata": {
      "needs_background": "light"
     },
     "output_type": "display_data"
    }
   ],
   "source": [
    "plt.figure(figsize=(8,6))\n",
    "sns.heatmap(df1.corr(),annot=True,cmap='RdBu_r')\n",
    "plt.title(\"Correlation Of Each Numerical Features\")\n",
    "plt.show()"
   ]
  },
  {
   "cell_type": "markdown",
   "metadata": {},
   "source": [
    "we can see that duration variable is highly correlated with response variable 'Response Flag' . <br>\n",
    "Whereas pdays variable is not highly correlated with response variable 'Response Flag'."
   ]
  },
  {
   "cell_type": "code",
   "execution_count": 97,
   "metadata": {},
   "outputs": [
    {
     "data": {
      "text/plain": [
       "<Figure size 720x576 with 0 Axes>"
      ]
     },
     "metadata": {},
     "output_type": "display_data"
    },
    {
     "data": {
      "image/png": "[encoded data removed]",
      "text/plain": [
       "<Figure size 432x432 with 3 Axes>"
      ]
     },
     "metadata": {
      "needs_background": "light"
     },
     "output_type": "display_data"
    },
    {
     "data": {
      "text/plain": [
       "<Figure size 720x576 with 0 Axes>"
      ]
     },
     "metadata": {},
     "output_type": "display_data"
    },
    {
     "data": {
      "image/png": "[encoded data removed]",
      "text/plain": [
       "<Figure size 432x432 with 3 Axes>"
      ]
     },
     "metadata": {
      "needs_background": "light"
     },
     "output_type": "display_data"
    },
    {
     "data": {
      "text/plain": [
       "<Figure size 720x576 with 0 Axes>"
      ]
     },
     "metadata": {},
     "output_type": "display_data"
    },
    {
     "data": {
      "image/png": "[encoded data removed]",
      "text/plain": [
       "<Figure size 432x432 with 3 Axes>"
      ]
     },
     "metadata": {
      "needs_background": "light"
     },
     "output_type": "display_data"
    },
    {
     "data": {
      "text/plain": [
       "<Figure size 720x576 with 0 Axes>"
      ]
     },
     "metadata": {},
     "output_type": "display_data"
    },
    {
     "data": {
      "image/png": "[encoded data removed]",
      "text/plain": [
       "<Figure size 432x432 with 3 Axes>"
      ]
     },
     "metadata": {
      "needs_background": "light"
     },
     "output_type": "display_data"
    },
    {
     "data": {
      "text/plain": [
       "<Figure size 720x576 with 0 Axes>"
      ]
     },
     "metadata": {},
     "output_type": "display_data"
    },
    {
     "data": {
      "image/png": "[encoded data removed]",
      "text/plain": [
       "<Figure size 432x432 with 3 Axes>"
      ]
     },
     "metadata": {
      "needs_background": "light"
     },
     "output_type": "display_data"
    },
    {
     "data": {
      "text/plain": [
       "<Figure size 720x576 with 0 Axes>"
      ]
     },
     "metadata": {},
     "output_type": "display_data"
    },
    {
     "data": {
      "image/png": "[encoded data removed]",
      "text/plain": [
       "<Figure size 432x432 with 3 Axes>"
      ]
     },
     "metadata": {
      "needs_background": "light"
     },
     "output_type": "display_data"
    },
    {
     "data": {
      "text/plain": [
       "<Figure size 720x576 with 0 Axes>"
      ]
     },
     "metadata": {},
     "output_type": "display_data"
    },
    {
     "data": {
      "image/png": "[encoded data removed]",
      "text/plain": [
       "<Figure size 432x432 with 3 Axes>"
      ]
     },
     "metadata": {
      "needs_background": "light"
     },
     "output_type": "display_data"
    },
    {
     "data": {
      "text/plain": [
       "<Figure size 720x576 with 0 Axes>"
      ]
     },
     "metadata": {},
     "output_type": "display_data"
    },
    {
     "data": {
      "image/png": "[encoded data removed]",
      "text/plain": [
       "<Figure size 432x432 with 3 Axes>"
      ]
     },
     "metadata": {
      "needs_background": "light"
     },
     "output_type": "display_data"
    }
   ],
   "source": [
    "for col in num_col[:-1]:\n",
    "    plt.figure(figsize=(10,8))\n",
    "    sns.jointplot(x = df1[col],y = df1[\"response\"],kind='reg')\n",
    "    plt.xlabel(col,fontsize = 15)\n",
    "    plt.ylabel(\"Response\",fontsize = 15)\n",
    "    plt.grid()\n",
    "    plt.show()"
   ]
  },
  {
   "cell_type": "markdown",
   "metadata": {},
   "source": [
    "<B>Label Encoding of Categorical Variables"
   ]
  },
  {
   "cell_type": "code",
   "execution_count": 98,
   "metadata": {},
   "outputs": [
    {
     "data": {
      "text/html": [
       "<div>\n",
       "<style scoped>\n",
       "    .dataframe tbody tr th:only-of-type {\n",
       "        vertical-align: middle;\n",
       "    }\n",
       "\n",
       "    .dataframe tbody tr th {\n",
       "        vertical-align: top;\n",
       "    }\n",
       "\n",
       "    .dataframe thead th {\n",
       "        text-align: right;\n",
       "    }\n",
       "</style>\n",
       "<table border=\"1\" class=\"dataframe\">\n",
       "  <thead>\n",
       "    <tr style=\"text-align: right;\">\n",
       "      <th></th>\n",
       "      <th>job</th>\n",
       "      <th>marital</th>\n",
       "      <th>education</th>\n",
       "      <th>targeted</th>\n",
       "      <th>default</th>\n",
       "      <th>housing</th>\n",
       "      <th>loan</th>\n",
       "      <th>contact</th>\n",
       "      <th>month</th>\n",
       "      <th>poutcome</th>\n",
       "    </tr>\n",
       "  </thead>\n",
       "  <tbody>\n",
       "    <tr>\n",
       "      <th>24060</th>\n",
       "      <td>0</td>\n",
       "      <td>1</td>\n",
       "      <td>2</td>\n",
       "      <td>1</td>\n",
       "      <td>0</td>\n",
       "      <td>0</td>\n",
       "      <td>0</td>\n",
       "      <td>1</td>\n",
       "      <td>10</td>\n",
       "      <td>0</td>\n",
       "    </tr>\n",
       "    <tr>\n",
       "      <th>24062</th>\n",
       "      <td>0</td>\n",
       "      <td>2</td>\n",
       "      <td>1</td>\n",
       "      <td>1</td>\n",
       "      <td>0</td>\n",
       "      <td>1</td>\n",
       "      <td>1</td>\n",
       "      <td>1</td>\n",
       "      <td>10</td>\n",
       "      <td>1</td>\n",
       "    </tr>\n",
       "    <tr>\n",
       "      <th>24064</th>\n",
       "      <td>7</td>\n",
       "      <td>1</td>\n",
       "      <td>1</td>\n",
       "      <td>1</td>\n",
       "      <td>0</td>\n",
       "      <td>1</td>\n",
       "      <td>0</td>\n",
       "      <td>1</td>\n",
       "      <td>10</td>\n",
       "      <td>0</td>\n",
       "    </tr>\n",
       "    <tr>\n",
       "      <th>24072</th>\n",
       "      <td>4</td>\n",
       "      <td>1</td>\n",
       "      <td>2</td>\n",
       "      <td>1</td>\n",
       "      <td>0</td>\n",
       "      <td>1</td>\n",
       "      <td>0</td>\n",
       "      <td>1</td>\n",
       "      <td>10</td>\n",
       "      <td>1</td>\n",
       "    </tr>\n",
       "    <tr>\n",
       "      <th>24077</th>\n",
       "      <td>4</td>\n",
       "      <td>1</td>\n",
       "      <td>2</td>\n",
       "      <td>1</td>\n",
       "      <td>0</td>\n",
       "      <td>1</td>\n",
       "      <td>0</td>\n",
       "      <td>1</td>\n",
       "      <td>10</td>\n",
       "      <td>0</td>\n",
       "    </tr>\n",
       "  </tbody>\n",
       "</table>\n",
       "</div>"
      ],
      "text/plain": [
       "       job  marital  education  targeted  default  housing  loan  contact  \\\n",
       "24060    0        1          2         1        0        0     0        1   \n",
       "24062    0        2          1         1        0        1     1        1   \n",
       "24064    7        1          1         1        0        1     0        1   \n",
       "24072    4        1          2         1        0        1     0        1   \n",
       "24077    4        1          2         1        0        1     0        1   \n",
       "\n",
       "       month  poutcome  \n",
       "24060     10         0  \n",
       "24062     10         1  \n",
       "24064     10         0  \n",
       "24072     10         1  \n",
       "24077     10         0  "
      ]
     },
     "execution_count": 98,
     "metadata": {},
     "output_type": "execute_result"
    }
   ],
   "source": [
    "from sklearn.preprocessing import LabelEncoder\n",
    "df2 = df1[obj_col].apply(LabelEncoder().fit_transform)\n",
    "df2.head()"
   ]
  },
  {
   "cell_type": "code",
   "execution_count": 99,
   "metadata": {},
   "outputs": [],
   "source": [
    "df3 = df2.join(df1[num_col])"
   ]
  },
  {
   "cell_type": "code",
   "execution_count": 100,
   "metadata": {},
   "outputs": [
    {
     "data": {
      "text/html": [
       "<div>\n",
       "<style scoped>\n",
       "    .dataframe tbody tr th:only-of-type {\n",
       "        vertical-align: middle;\n",
       "    }\n",
       "\n",
       "    .dataframe tbody tr th {\n",
       "        vertical-align: top;\n",
       "    }\n",
       "\n",
       "    .dataframe thead th {\n",
       "        text-align: right;\n",
       "    }\n",
       "</style>\n",
       "<table border=\"1\" class=\"dataframe\">\n",
       "  <thead>\n",
       "    <tr style=\"text-align: right;\">\n",
       "      <th></th>\n",
       "      <th>job</th>\n",
       "      <th>marital</th>\n",
       "      <th>education</th>\n",
       "      <th>targeted</th>\n",
       "      <th>default</th>\n",
       "      <th>housing</th>\n",
       "      <th>loan</th>\n",
       "      <th>contact</th>\n",
       "      <th>month</th>\n",
       "      <th>poutcome</th>\n",
       "      <th>age</th>\n",
       "      <th>salary</th>\n",
       "      <th>balance</th>\n",
       "      <th>day</th>\n",
       "      <th>duration</th>\n",
       "      <th>campaign</th>\n",
       "      <th>pdays</th>\n",
       "      <th>previous</th>\n",
       "      <th>response</th>\n",
       "    </tr>\n",
       "  </thead>\n",
       "  <tbody>\n",
       "    <tr>\n",
       "      <th>24060</th>\n",
       "      <td>0</td>\n",
       "      <td>1</td>\n",
       "      <td>2</td>\n",
       "      <td>1</td>\n",
       "      <td>0</td>\n",
       "      <td>0</td>\n",
       "      <td>0</td>\n",
       "      <td>1</td>\n",
       "      <td>10</td>\n",
       "      <td>0</td>\n",
       "      <td>33</td>\n",
       "      <td>50000</td>\n",
       "      <td>882</td>\n",
       "      <td>21</td>\n",
       "      <td>39</td>\n",
       "      <td>1</td>\n",
       "      <td>151</td>\n",
       "      <td>3</td>\n",
       "      <td>0</td>\n",
       "    </tr>\n",
       "    <tr>\n",
       "      <th>24062</th>\n",
       "      <td>0</td>\n",
       "      <td>2</td>\n",
       "      <td>1</td>\n",
       "      <td>1</td>\n",
       "      <td>0</td>\n",
       "      <td>1</td>\n",
       "      <td>1</td>\n",
       "      <td>1</td>\n",
       "      <td>10</td>\n",
       "      <td>1</td>\n",
       "      <td>42</td>\n",
       "      <td>50000</td>\n",
       "      <td>-247</td>\n",
       "      <td>21</td>\n",
       "      <td>519</td>\n",
       "      <td>1</td>\n",
       "      <td>166</td>\n",
       "      <td>1</td>\n",
       "      <td>1</td>\n",
       "    </tr>\n",
       "    <tr>\n",
       "      <th>24064</th>\n",
       "      <td>7</td>\n",
       "      <td>1</td>\n",
       "      <td>1</td>\n",
       "      <td>1</td>\n",
       "      <td>0</td>\n",
       "      <td>1</td>\n",
       "      <td>0</td>\n",
       "      <td>1</td>\n",
       "      <td>10</td>\n",
       "      <td>0</td>\n",
       "      <td>33</td>\n",
       "      <td>70000</td>\n",
       "      <td>3444</td>\n",
       "      <td>21</td>\n",
       "      <td>144</td>\n",
       "      <td>1</td>\n",
       "      <td>91</td>\n",
       "      <td>4</td>\n",
       "      <td>1</td>\n",
       "    </tr>\n",
       "    <tr>\n",
       "      <th>24072</th>\n",
       "      <td>4</td>\n",
       "      <td>1</td>\n",
       "      <td>2</td>\n",
       "      <td>1</td>\n",
       "      <td>0</td>\n",
       "      <td>1</td>\n",
       "      <td>0</td>\n",
       "      <td>1</td>\n",
       "      <td>10</td>\n",
       "      <td>1</td>\n",
       "      <td>36</td>\n",
       "      <td>100000</td>\n",
       "      <td>2415</td>\n",
       "      <td>22</td>\n",
       "      <td>73</td>\n",
       "      <td>1</td>\n",
       "      <td>86</td>\n",
       "      <td>4</td>\n",
       "      <td>0</td>\n",
       "    </tr>\n",
       "    <tr>\n",
       "      <th>24077</th>\n",
       "      <td>4</td>\n",
       "      <td>1</td>\n",
       "      <td>2</td>\n",
       "      <td>1</td>\n",
       "      <td>0</td>\n",
       "      <td>1</td>\n",
       "      <td>0</td>\n",
       "      <td>1</td>\n",
       "      <td>10</td>\n",
       "      <td>0</td>\n",
       "      <td>36</td>\n",
       "      <td>100000</td>\n",
       "      <td>0</td>\n",
       "      <td>23</td>\n",
       "      <td>140</td>\n",
       "      <td>1</td>\n",
       "      <td>143</td>\n",
       "      <td>3</td>\n",
       "      <td>1</td>\n",
       "    </tr>\n",
       "  </tbody>\n",
       "</table>\n",
       "</div>"
      ],
      "text/plain": [
       "       job  marital  education  targeted  default  housing  loan  contact  \\\n",
       "24060    0        1          2         1        0        0     0        1   \n",
       "24062    0        2          1         1        0        1     1        1   \n",
       "24064    7        1          1         1        0        1     0        1   \n",
       "24072    4        1          2         1        0        1     0        1   \n",
       "24077    4        1          2         1        0        1     0        1   \n",
       "\n",
       "       month  poutcome  age  salary  balance  day  duration  campaign  pdays  \\\n",
       "24060     10         0   33   50000      882   21        39         1    151   \n",
       "24062     10         1   42   50000     -247   21       519         1    166   \n",
       "24064     10         0   33   70000     3444   21       144         1     91   \n",
       "24072     10         1   36  100000     2415   22        73         1     86   \n",
       "24077     10         0   36  100000        0   23       140         1    143   \n",
       "\n",
       "       previous  response  \n",
       "24060         3         0  \n",
       "24062         1         1  \n",
       "24064         4         1  \n",
       "24072         4         0  \n",
       "24077         3         1  "
      ]
     },
     "execution_count": 100,
     "metadata": {},
     "output_type": "execute_result"
    }
   ],
   "source": [
    "df3.head()"
   ]
  },
  {
   "cell_type": "code",
   "execution_count": 101,
   "metadata": {},
   "outputs": [
    {
     "data": {
      "text/html": [
       "<div>\n",
       "<style scoped>\n",
       "    .dataframe tbody tr th:only-of-type {\n",
       "        vertical-align: middle;\n",
       "    }\n",
       "\n",
       "    .dataframe tbody tr th {\n",
       "        vertical-align: top;\n",
       "    }\n",
       "\n",
       "    .dataframe thead th {\n",
       "        text-align: right;\n",
       "    }\n",
       "</style>\n",
       "<table border=\"1\" class=\"dataframe\">\n",
       "  <thead>\n",
       "    <tr style=\"text-align: right;\">\n",
       "      <th></th>\n",
       "      <th>job</th>\n",
       "      <th>marital</th>\n",
       "      <th>education</th>\n",
       "      <th>targeted</th>\n",
       "      <th>default</th>\n",
       "      <th>housing</th>\n",
       "      <th>loan</th>\n",
       "      <th>contact</th>\n",
       "      <th>month</th>\n",
       "      <th>poutcome</th>\n",
       "      <th>age</th>\n",
       "      <th>salary</th>\n",
       "      <th>balance</th>\n",
       "      <th>day</th>\n",
       "      <th>duration</th>\n",
       "      <th>campaign</th>\n",
       "      <th>pdays</th>\n",
       "      <th>previous</th>\n",
       "      <th>response</th>\n",
       "    </tr>\n",
       "  </thead>\n",
       "  <tbody>\n",
       "    <tr>\n",
       "      <th>job</th>\n",
       "      <td>1.000000</td>\n",
       "      <td>0.072746</td>\n",
       "      <td>0.159280</td>\n",
       "      <td>-0.091197</td>\n",
       "      <td>-0.021012</td>\n",
       "      <td>-0.132378</td>\n",
       "      <td>-0.033500</td>\n",
       "      <td>-0.006279</td>\n",
       "      <td>-0.002498</td>\n",
       "      <td>0.066642</td>\n",
       "      <td>-0.020606</td>\n",
       "      <td>0.115271</td>\n",
       "      <td>0.041975</td>\n",
       "      <td>0.013841</td>\n",
       "      <td>0.024449</td>\n",
       "      <td>-0.008764</td>\n",
       "      <td>-0.110505</td>\n",
       "      <td>-0.000266</td>\n",
       "      <td>0.081239</td>\n",
       "    </tr>\n",
       "    <tr>\n",
       "      <th>marital</th>\n",
       "      <td>0.072746</td>\n",
       "      <td>1.000000</td>\n",
       "      <td>0.121688</td>\n",
       "      <td>-0.255247</td>\n",
       "      <td>-0.005632</td>\n",
       "      <td>-0.056963</td>\n",
       "      <td>-0.055435</td>\n",
       "      <td>-0.031866</td>\n",
       "      <td>-0.024130</td>\n",
       "      <td>0.045015</td>\n",
       "      <td>-0.414972</td>\n",
       "      <td>-0.042212</td>\n",
       "      <td>-0.019767</td>\n",
       "      <td>0.016797</td>\n",
       "      <td>-0.009075</td>\n",
       "      <td>-0.008338</td>\n",
       "      <td>-0.011861</td>\n",
       "      <td>0.004536</td>\n",
       "      <td>0.049234</td>\n",
       "    </tr>\n",
       "    <tr>\n",
       "      <th>education</th>\n",
       "      <td>0.159280</td>\n",
       "      <td>0.121688</td>\n",
       "      <td>1.000000</td>\n",
       "      <td>-0.632513</td>\n",
       "      <td>-0.013682</td>\n",
       "      <td>-0.129804</td>\n",
       "      <td>-0.047718</td>\n",
       "      <td>-0.048456</td>\n",
       "      <td>-0.010829</td>\n",
       "      <td>0.082852</td>\n",
       "      <td>-0.119516</td>\n",
       "      <td>0.423157</td>\n",
       "      <td>0.074166</td>\n",
       "      <td>0.023542</td>\n",
       "      <td>-0.001142</td>\n",
       "      <td>-0.024343</td>\n",
       "      <td>-0.140155</td>\n",
       "      <td>0.000115</td>\n",
       "      <td>0.108098</td>\n",
       "    </tr>\n",
       "    <tr>\n",
       "      <th>targeted</th>\n",
       "      <td>-0.091197</td>\n",
       "      <td>-0.255247</td>\n",
       "      <td>-0.632513</td>\n",
       "      <td>1.000000</td>\n",
       "      <td>0.019593</td>\n",
       "      <td>0.087470</td>\n",
       "      <td>0.070420</td>\n",
       "      <td>0.020464</td>\n",
       "      <td>0.010187</td>\n",
       "      <td>-0.071356</td>\n",
       "      <td>0.140750</td>\n",
       "      <td>-0.228338</td>\n",
       "      <td>-0.052007</td>\n",
       "      <td>-0.026179</td>\n",
       "      <td>-0.014729</td>\n",
       "      <td>0.017948</td>\n",
       "      <td>0.075638</td>\n",
       "      <td>-0.001205</td>\n",
       "      <td>-0.091216</td>\n",
       "    </tr>\n",
       "    <tr>\n",
       "      <th>default</th>\n",
       "      <td>-0.021012</td>\n",
       "      <td>-0.005632</td>\n",
       "      <td>-0.013682</td>\n",
       "      <td>0.019593</td>\n",
       "      <td>1.000000</td>\n",
       "      <td>0.022644</td>\n",
       "      <td>0.052261</td>\n",
       "      <td>-0.019834</td>\n",
       "      <td>0.020123</td>\n",
       "      <td>-0.025566</td>\n",
       "      <td>-0.027825</td>\n",
       "      <td>0.000361</td>\n",
       "      <td>-0.045010</td>\n",
       "      <td>-0.001013</td>\n",
       "      <td>-0.002635</td>\n",
       "      <td>-0.002064</td>\n",
       "      <td>0.033760</td>\n",
       "      <td>0.012149</td>\n",
       "      <td>-0.028299</td>\n",
       "    </tr>\n",
       "    <tr>\n",
       "      <th>housing</th>\n",
       "      <td>-0.132378</td>\n",
       "      <td>-0.056963</td>\n",
       "      <td>-0.129804</td>\n",
       "      <td>0.087470</td>\n",
       "      <td>0.022644</td>\n",
       "      <td>1.000000</td>\n",
       "      <td>0.109815</td>\n",
       "      <td>-0.069869</td>\n",
       "      <td>0.014452</td>\n",
       "      <td>-0.284439</td>\n",
       "      <td>-0.179386</td>\n",
       "      <td>-0.035905</td>\n",
       "      <td>-0.109163</td>\n",
       "      <td>-0.066740</td>\n",
       "      <td>-0.072070</td>\n",
       "      <td>0.063071</td>\n",
       "      <td>0.335124</td>\n",
       "      <td>0.008934</td>\n",
       "      <td>-0.317501</td>\n",
       "    </tr>\n",
       "    <tr>\n",
       "      <th>loan</th>\n",
       "      <td>-0.033500</td>\n",
       "      <td>-0.055435</td>\n",
       "      <td>-0.047718</td>\n",
       "      <td>0.070420</td>\n",
       "      <td>0.052261</td>\n",
       "      <td>0.109815</td>\n",
       "      <td>1.000000</td>\n",
       "      <td>-0.020904</td>\n",
       "      <td>0.000524</td>\n",
       "      <td>-0.103154</td>\n",
       "      <td>-0.008330</td>\n",
       "      <td>0.013788</td>\n",
       "      <td>-0.085004</td>\n",
       "      <td>0.007550</td>\n",
       "      <td>-0.033874</td>\n",
       "      <td>0.007444</td>\n",
       "      <td>0.022454</td>\n",
       "      <td>0.016549</td>\n",
       "      <td>-0.115805</td>\n",
       "    </tr>\n",
       "    <tr>\n",
       "      <th>contact</th>\n",
       "      <td>-0.006279</td>\n",
       "      <td>-0.031866</td>\n",
       "      <td>-0.048456</td>\n",
       "      <td>0.020464</td>\n",
       "      <td>-0.019834</td>\n",
       "      <td>-0.069869</td>\n",
       "      <td>-0.020904</td>\n",
       "      <td>1.000000</td>\n",
       "      <td>0.047045</td>\n",
       "      <td>0.024590</td>\n",
       "      <td>0.166384</td>\n",
       "      <td>-0.035805</td>\n",
       "      <td>0.030317</td>\n",
       "      <td>-0.012330</td>\n",
       "      <td>-0.036360</td>\n",
       "      <td>0.063199</td>\n",
       "      <td>0.077235</td>\n",
       "      <td>0.043830</td>\n",
       "      <td>-0.014321</td>\n",
       "    </tr>\n",
       "    <tr>\n",
       "      <th>month</th>\n",
       "      <td>-0.002498</td>\n",
       "      <td>-0.024130</td>\n",
       "      <td>-0.010829</td>\n",
       "      <td>0.010187</td>\n",
       "      <td>0.020123</td>\n",
       "      <td>0.014452</td>\n",
       "      <td>0.000524</td>\n",
       "      <td>0.047045</td>\n",
       "      <td>1.000000</td>\n",
       "      <td>-0.019188</td>\n",
       "      <td>0.013909</td>\n",
       "      <td>0.019820</td>\n",
       "      <td>0.015723</td>\n",
       "      <td>-0.024264</td>\n",
       "      <td>-0.036446</td>\n",
       "      <td>0.023224</td>\n",
       "      <td>0.022529</td>\n",
       "      <td>0.013977</td>\n",
       "      <td>-0.009586</td>\n",
       "    </tr>\n",
       "    <tr>\n",
       "      <th>poutcome</th>\n",
       "      <td>0.066642</td>\n",
       "      <td>0.045015</td>\n",
       "      <td>0.082852</td>\n",
       "      <td>-0.071356</td>\n",
       "      <td>-0.025566</td>\n",
       "      <td>-0.284439</td>\n",
       "      <td>-0.103154</td>\n",
       "      <td>0.024590</td>\n",
       "      <td>-0.019188</td>\n",
       "      <td>1.000000</td>\n",
       "      <td>0.051987</td>\n",
       "      <td>0.013079</td>\n",
       "      <td>0.051464</td>\n",
       "      <td>0.017125</td>\n",
       "      <td>0.108473</td>\n",
       "      <td>-0.000502</td>\n",
       "      <td>-0.235119</td>\n",
       "      <td>0.041607</td>\n",
       "      <td>0.420519</td>\n",
       "    </tr>\n",
       "    <tr>\n",
       "      <th>age</th>\n",
       "      <td>-0.020606</td>\n",
       "      <td>-0.414972</td>\n",
       "      <td>-0.119516</td>\n",
       "      <td>0.140750</td>\n",
       "      <td>-0.027825</td>\n",
       "      <td>-0.179386</td>\n",
       "      <td>-0.008330</td>\n",
       "      <td>0.166384</td>\n",
       "      <td>0.013909</td>\n",
       "      <td>0.051987</td>\n",
       "      <td>1.000000</td>\n",
       "      <td>0.058322</td>\n",
       "      <td>0.115480</td>\n",
       "      <td>0.018399</td>\n",
       "      <td>0.060519</td>\n",
       "      <td>0.003842</td>\n",
       "      <td>-0.107863</td>\n",
       "      <td>0.002280</td>\n",
       "      <td>0.072577</td>\n",
       "    </tr>\n",
       "    <tr>\n",
       "      <th>salary</th>\n",
       "      <td>0.115271</td>\n",
       "      <td>-0.042212</td>\n",
       "      <td>0.423157</td>\n",
       "      <td>-0.228338</td>\n",
       "      <td>0.000361</td>\n",
       "      <td>-0.035905</td>\n",
       "      <td>0.013788</td>\n",
       "      <td>-0.035805</td>\n",
       "      <td>0.019820</td>\n",
       "      <td>0.013079</td>\n",
       "      <td>0.058322</td>\n",
       "      <td>1.000000</td>\n",
       "      <td>0.066079</td>\n",
       "      <td>0.002379</td>\n",
       "      <td>0.005734</td>\n",
       "      <td>-0.018559</td>\n",
       "      <td>-0.106134</td>\n",
       "      <td>0.028427</td>\n",
       "      <td>0.036774</td>\n",
       "    </tr>\n",
       "    <tr>\n",
       "      <th>balance</th>\n",
       "      <td>0.041975</td>\n",
       "      <td>-0.019767</td>\n",
       "      <td>0.074166</td>\n",
       "      <td>-0.052007</td>\n",
       "      <td>-0.045010</td>\n",
       "      <td>-0.109163</td>\n",
       "      <td>-0.085004</td>\n",
       "      <td>0.030317</td>\n",
       "      <td>0.015723</td>\n",
       "      <td>0.051464</td>\n",
       "      <td>0.115480</td>\n",
       "      <td>0.066079</td>\n",
       "      <td>1.000000</td>\n",
       "      <td>0.051732</td>\n",
       "      <td>0.040998</td>\n",
       "      <td>-0.008150</td>\n",
       "      <td>-0.108122</td>\n",
       "      <td>0.001570</td>\n",
       "      <td>0.076995</td>\n",
       "    </tr>\n",
       "    <tr>\n",
       "      <th>day</th>\n",
       "      <td>0.013841</td>\n",
       "      <td>0.016797</td>\n",
       "      <td>0.023542</td>\n",
       "      <td>-0.026179</td>\n",
       "      <td>-0.001013</td>\n",
       "      <td>-0.066740</td>\n",
       "      <td>0.007550</td>\n",
       "      <td>-0.012330</td>\n",
       "      <td>-0.024264</td>\n",
       "      <td>0.017125</td>\n",
       "      <td>0.018399</td>\n",
       "      <td>0.002379</td>\n",
       "      <td>0.051732</td>\n",
       "      <td>1.000000</td>\n",
       "      <td>-0.012687</td>\n",
       "      <td>-0.029295</td>\n",
       "      <td>-0.090095</td>\n",
       "      <td>-0.016801</td>\n",
       "      <td>0.029952</td>\n",
       "    </tr>\n",
       "    <tr>\n",
       "      <th>duration</th>\n",
       "      <td>0.024449</td>\n",
       "      <td>-0.009075</td>\n",
       "      <td>-0.001142</td>\n",
       "      <td>-0.014729</td>\n",
       "      <td>-0.002635</td>\n",
       "      <td>-0.072070</td>\n",
       "      <td>-0.033874</td>\n",
       "      <td>-0.036360</td>\n",
       "      <td>-0.036446</td>\n",
       "      <td>0.108473</td>\n",
       "      <td>0.060519</td>\n",
       "      <td>0.005734</td>\n",
       "      <td>0.040998</td>\n",
       "      <td>-0.012687</td>\n",
       "      <td>1.000000</td>\n",
       "      <td>-0.088394</td>\n",
       "      <td>-0.024407</td>\n",
       "      <td>-0.002150</td>\n",
       "      <td>0.342610</td>\n",
       "    </tr>\n",
       "    <tr>\n",
       "      <th>campaign</th>\n",
       "      <td>-0.008764</td>\n",
       "      <td>-0.008338</td>\n",
       "      <td>-0.024343</td>\n",
       "      <td>0.017948</td>\n",
       "      <td>-0.002064</td>\n",
       "      <td>0.063071</td>\n",
       "      <td>0.007444</td>\n",
       "      <td>0.063199</td>\n",
       "      <td>0.023224</td>\n",
       "      <td>-0.000502</td>\n",
       "      <td>0.003842</td>\n",
       "      <td>-0.018559</td>\n",
       "      <td>-0.008150</td>\n",
       "      <td>-0.029295</td>\n",
       "      <td>-0.088394</td>\n",
       "      <td>1.000000</td>\n",
       "      <td>0.050534</td>\n",
       "      <td>0.135523</td>\n",
       "      <td>-0.094110</td>\n",
       "    </tr>\n",
       "    <tr>\n",
       "      <th>pdays</th>\n",
       "      <td>-0.110505</td>\n",
       "      <td>-0.011861</td>\n",
       "      <td>-0.140155</td>\n",
       "      <td>0.075638</td>\n",
       "      <td>0.033760</td>\n",
       "      <td>0.335124</td>\n",
       "      <td>0.022454</td>\n",
       "      <td>0.077235</td>\n",
       "      <td>0.022529</td>\n",
       "      <td>-0.235119</td>\n",
       "      <td>-0.107863</td>\n",
       "      <td>-0.106134</td>\n",
       "      <td>-0.108122</td>\n",
       "      <td>-0.090095</td>\n",
       "      <td>-0.024407</td>\n",
       "      <td>0.050534</td>\n",
       "      <td>1.000000</td>\n",
       "      <td>-0.021885</td>\n",
       "      <td>-0.152206</td>\n",
       "    </tr>\n",
       "    <tr>\n",
       "      <th>previous</th>\n",
       "      <td>-0.000266</td>\n",
       "      <td>0.004536</td>\n",
       "      <td>0.000115</td>\n",
       "      <td>-0.001205</td>\n",
       "      <td>0.012149</td>\n",
       "      <td>0.008934</td>\n",
       "      <td>0.016549</td>\n",
       "      <td>0.043830</td>\n",
       "      <td>0.013977</td>\n",
       "      <td>0.041607</td>\n",
       "      <td>0.002280</td>\n",
       "      <td>0.028427</td>\n",
       "      <td>0.001570</td>\n",
       "      <td>-0.016801</td>\n",
       "      <td>-0.002150</td>\n",
       "      <td>0.135523</td>\n",
       "      <td>-0.021885</td>\n",
       "      <td>1.000000</td>\n",
       "      <td>0.008622</td>\n",
       "    </tr>\n",
       "    <tr>\n",
       "      <th>response</th>\n",
       "      <td>0.081239</td>\n",
       "      <td>0.049234</td>\n",
       "      <td>0.108098</td>\n",
       "      <td>-0.091216</td>\n",
       "      <td>-0.028299</td>\n",
       "      <td>-0.317501</td>\n",
       "      <td>-0.115805</td>\n",
       "      <td>-0.014321</td>\n",
       "      <td>-0.009586</td>\n",
       "      <td>0.420519</td>\n",
       "      <td>0.072577</td>\n",
       "      <td>0.036774</td>\n",
       "      <td>0.076995</td>\n",
       "      <td>0.029952</td>\n",
       "      <td>0.342610</td>\n",
       "      <td>-0.094110</td>\n",
       "      <td>-0.152206</td>\n",
       "      <td>0.008622</td>\n",
       "      <td>1.000000</td>\n",
       "    </tr>\n",
       "  </tbody>\n",
       "</table>\n",
       "</div>"
      ],
      "text/plain": [
       "                job   marital  education  targeted   default   housing  \\\n",
       "job        1.000000  0.072746   0.159280 -0.091197 -0.021012 -0.132378   \n",
       "marital    0.072746  1.000000   0.121688 -0.255247 -0.005632 -0.056963   \n",
       "education  0.159280  0.121688   1.000000 -0.632513 -0.013682 -0.129804   \n",
       "targeted  -0.091197 -0.255247  -0.632513  1.000000  0.019593  0.087470   \n",
       "default   -0.021012 -0.005632  -0.013682  0.019593  1.000000  0.022644   \n",
       "housing   -0.132378 -0.056963  -0.129804  0.087470  0.022644  1.000000   \n",
       "loan      -0.033500 -0.055435  -0.047718  0.070420  0.052261  0.109815   \n",
       "contact   -0.006279 -0.031866  -0.048456  0.020464 -0.019834 -0.069869   \n",
       "month     -0.002498 -0.024130  -0.010829  0.010187  0.020123  0.014452   \n",
       "poutcome   0.066642  0.045015   0.082852 -0.071356 -0.025566 -0.284439   \n",
       "age       -0.020606 -0.414972  -0.119516  0.140750 -0.027825 -0.179386   \n",
       "salary     0.115271 -0.042212   0.423157 -0.228338  0.000361 -0.035905   \n",
       "balance    0.041975 -0.019767   0.074166 -0.052007 -0.045010 -0.109163   \n",
       "day        0.013841  0.016797   0.023542 -0.026179 -0.001013 -0.066740   \n",
       "duration   0.024449 -0.009075  -0.001142 -0.014729 -0.002635 -0.072070   \n",
       "campaign  -0.008764 -0.008338  -0.024343  0.017948 -0.002064  0.063071   \n",
       "pdays     -0.110505 -0.011861  -0.140155  0.075638  0.033760  0.335124   \n",
       "previous  -0.000266  0.004536   0.000115 -0.001205  0.012149  0.008934   \n",
       "response   0.081239  0.049234   0.108098 -0.091216 -0.028299 -0.317501   \n",
       "\n",
       "               loan   contact     month  poutcome       age    salary  \\\n",
       "job       -0.033500 -0.006279 -0.002498  0.066642 -0.020606  0.115271   \n",
       "marital   -0.055435 -0.031866 -0.024130  0.045015 -0.414972 -0.042212   \n",
       "education -0.047718 -0.048456 -0.010829  0.082852 -0.119516  0.423157   \n",
       "targeted   0.070420  0.020464  0.010187 -0.071356  0.140750 -0.228338   \n",
       "default    0.052261 -0.019834  0.020123 -0.025566 -0.027825  0.000361   \n",
       "housing    0.109815 -0.069869  0.014452 -0.284439 -0.179386 -0.035905   \n",
       "loan       1.000000 -0.020904  0.000524 -0.103154 -0.008330  0.013788   \n",
       "contact   -0.020904  1.000000  0.047045  0.024590  0.166384 -0.035805   \n",
       "month      0.000524  0.047045  1.000000 -0.019188  0.013909  0.019820   \n",
       "poutcome  -0.103154  0.024590 -0.019188  1.000000  0.051987  0.013079   \n",
       "age       -0.008330  0.166384  0.013909  0.051987  1.000000  0.058322   \n",
       "salary     0.013788 -0.035805  0.019820  0.013079  0.058322  1.000000   \n",
       "balance   -0.085004  0.030317  0.015723  0.051464  0.115480  0.066079   \n",
       "day        0.007550 -0.012330 -0.024264  0.017125  0.018399  0.002379   \n",
       "duration  -0.033874 -0.036360 -0.036446  0.108473  0.060519  0.005734   \n",
       "campaign   0.007444  0.063199  0.023224 -0.000502  0.003842 -0.018559   \n",
       "pdays      0.022454  0.077235  0.022529 -0.235119 -0.107863 -0.106134   \n",
       "previous   0.016549  0.043830  0.013977  0.041607  0.002280  0.028427   \n",
       "response  -0.115805 -0.014321 -0.009586  0.420519  0.072577  0.036774   \n",
       "\n",
       "            balance       day  duration  campaign     pdays  previous  \\\n",
       "job        0.041975  0.013841  0.024449 -0.008764 -0.110505 -0.000266   \n",
       "marital   -0.019767  0.016797 -0.009075 -0.008338 -0.011861  0.004536   \n",
       "education  0.074166  0.023542 -0.001142 -0.024343 -0.140155  0.000115   \n",
       "targeted  -0.052007 -0.026179 -0.014729  0.017948  0.075638 -0.001205   \n",
       "default   -0.045010 -0.001013 -0.002635 -0.002064  0.033760  0.012149   \n",
       "housing   -0.109163 -0.066740 -0.072070  0.063071  0.335124  0.008934   \n",
       "loan      -0.085004  0.007550 -0.033874  0.007444  0.022454  0.016549   \n",
       "contact    0.030317 -0.012330 -0.036360  0.063199  0.077235  0.043830   \n",
       "month      0.015723 -0.024264 -0.036446  0.023224  0.022529  0.013977   \n",
       "poutcome   0.051464  0.017125  0.108473 -0.000502 -0.235119  0.041607   \n",
       "age        0.115480  0.018399  0.060519  0.003842 -0.107863  0.002280   \n",
       "salary     0.066079  0.002379  0.005734 -0.018559 -0.106134  0.028427   \n",
       "balance    1.000000  0.051732  0.040998 -0.008150 -0.108122  0.001570   \n",
       "day        0.051732  1.000000 -0.012687 -0.029295 -0.090095 -0.016801   \n",
       "duration   0.040998 -0.012687  1.000000 -0.088394 -0.024407 -0.002150   \n",
       "campaign  -0.008150 -0.029295 -0.088394  1.000000  0.050534  0.135523   \n",
       "pdays     -0.108122 -0.090095 -0.024407  0.050534  1.000000 -0.021885   \n",
       "previous   0.001570 -0.016801 -0.002150  0.135523 -0.021885  1.000000   \n",
       "response   0.076995  0.029952  0.342610 -0.094110 -0.152206  0.008622   \n",
       "\n",
       "           response  \n",
       "job        0.081239  \n",
       "marital    0.049234  \n",
       "education  0.108098  \n",
       "targeted  -0.091216  \n",
       "default   -0.028299  \n",
       "housing   -0.317501  \n",
       "loan      -0.115805  \n",
       "contact   -0.014321  \n",
       "month     -0.009586  \n",
       "poutcome   0.420519  \n",
       "age        0.072577  \n",
       "salary     0.036774  \n",
       "balance    0.076995  \n",
       "day        0.029952  \n",
       "duration   0.342610  \n",
       "campaign  -0.094110  \n",
       "pdays     -0.152206  \n",
       "previous   0.008622  \n",
       "response   1.000000  "
      ]
     },
     "execution_count": 101,
     "metadata": {},
     "output_type": "execute_result"
    }
   ],
   "source": [
    "df3.corr()"
   ]
  },
  {
   "cell_type": "markdown",
   "metadata": {},
   "source": [
    "<h2>Model Building"
   ]
  },
  {
   "cell_type": "markdown",
   "metadata": {},
   "source": [
    "<h3>Predictive model 1: Logistic regression "
   ]
  },
  {
   "cell_type": "code",
   "execution_count": 102,
   "metadata": {},
   "outputs": [],
   "source": [
    "from sklearn.model_selection import train_test_split\n",
    "from sklearn.model_selection import cross_val_score\n",
    "from sklearn.linear_model import LogisticRegression\n",
    "from sklearn.metrics import classification_report\n",
    "from sklearn.metrics import confusion_matrix\n",
    "from sklearn.metrics import f1_score\n",
    "np.random.seed(42)\n",
    "import warnings\n",
    "warnings.filterwarnings(\"ignore\")"
   ]
  },
  {
   "cell_type": "code",
   "execution_count": 103,
   "metadata": {},
   "outputs": [
    {
     "data": {
      "text/html": [
       "<div>\n",
       "<style scoped>\n",
       "    .dataframe tbody tr th:only-of-type {\n",
       "        vertical-align: middle;\n",
       "    }\n",
       "\n",
       "    .dataframe tbody tr th {\n",
       "        vertical-align: top;\n",
       "    }\n",
       "\n",
       "    .dataframe thead th {\n",
       "        text-align: right;\n",
       "    }\n",
       "</style>\n",
       "<table border=\"1\" class=\"dataframe\">\n",
       "  <thead>\n",
       "    <tr style=\"text-align: right;\">\n",
       "      <th></th>\n",
       "      <th>job</th>\n",
       "      <th>marital</th>\n",
       "      <th>education</th>\n",
       "      <th>targeted</th>\n",
       "      <th>default</th>\n",
       "      <th>housing</th>\n",
       "      <th>loan</th>\n",
       "      <th>contact</th>\n",
       "      <th>month</th>\n",
       "      <th>poutcome</th>\n",
       "      <th>age</th>\n",
       "      <th>salary</th>\n",
       "      <th>balance</th>\n",
       "      <th>day</th>\n",
       "      <th>duration</th>\n",
       "      <th>campaign</th>\n",
       "      <th>pdays</th>\n",
       "      <th>previous</th>\n",
       "    </tr>\n",
       "  </thead>\n",
       "  <tbody>\n",
       "    <tr>\n",
       "      <th>24060</th>\n",
       "      <td>0</td>\n",
       "      <td>1</td>\n",
       "      <td>2</td>\n",
       "      <td>1</td>\n",
       "      <td>0</td>\n",
       "      <td>0</td>\n",
       "      <td>0</td>\n",
       "      <td>1</td>\n",
       "      <td>10</td>\n",
       "      <td>0</td>\n",
       "      <td>33</td>\n",
       "      <td>50000</td>\n",
       "      <td>882</td>\n",
       "      <td>21</td>\n",
       "      <td>39</td>\n",
       "      <td>1</td>\n",
       "      <td>151</td>\n",
       "      <td>3</td>\n",
       "    </tr>\n",
       "    <tr>\n",
       "      <th>24062</th>\n",
       "      <td>0</td>\n",
       "      <td>2</td>\n",
       "      <td>1</td>\n",
       "      <td>1</td>\n",
       "      <td>0</td>\n",
       "      <td>1</td>\n",
       "      <td>1</td>\n",
       "      <td>1</td>\n",
       "      <td>10</td>\n",
       "      <td>1</td>\n",
       "      <td>42</td>\n",
       "      <td>50000</td>\n",
       "      <td>-247</td>\n",
       "      <td>21</td>\n",
       "      <td>519</td>\n",
       "      <td>1</td>\n",
       "      <td>166</td>\n",
       "      <td>1</td>\n",
       "    </tr>\n",
       "    <tr>\n",
       "      <th>24064</th>\n",
       "      <td>7</td>\n",
       "      <td>1</td>\n",
       "      <td>1</td>\n",
       "      <td>1</td>\n",
       "      <td>0</td>\n",
       "      <td>1</td>\n",
       "      <td>0</td>\n",
       "      <td>1</td>\n",
       "      <td>10</td>\n",
       "      <td>0</td>\n",
       "      <td>33</td>\n",
       "      <td>70000</td>\n",
       "      <td>3444</td>\n",
       "      <td>21</td>\n",
       "      <td>144</td>\n",
       "      <td>1</td>\n",
       "      <td>91</td>\n",
       "      <td>4</td>\n",
       "    </tr>\n",
       "    <tr>\n",
       "      <th>24072</th>\n",
       "      <td>4</td>\n",
       "      <td>1</td>\n",
       "      <td>2</td>\n",
       "      <td>1</td>\n",
       "      <td>0</td>\n",
       "      <td>1</td>\n",
       "      <td>0</td>\n",
       "      <td>1</td>\n",
       "      <td>10</td>\n",
       "      <td>1</td>\n",
       "      <td>36</td>\n",
       "      <td>100000</td>\n",
       "      <td>2415</td>\n",
       "      <td>22</td>\n",
       "      <td>73</td>\n",
       "      <td>1</td>\n",
       "      <td>86</td>\n",
       "      <td>4</td>\n",
       "    </tr>\n",
       "    <tr>\n",
       "      <th>24077</th>\n",
       "      <td>4</td>\n",
       "      <td>1</td>\n",
       "      <td>2</td>\n",
       "      <td>1</td>\n",
       "      <td>0</td>\n",
       "      <td>1</td>\n",
       "      <td>0</td>\n",
       "      <td>1</td>\n",
       "      <td>10</td>\n",
       "      <td>0</td>\n",
       "      <td>36</td>\n",
       "      <td>100000</td>\n",
       "      <td>0</td>\n",
       "      <td>23</td>\n",
       "      <td>140</td>\n",
       "      <td>1</td>\n",
       "      <td>143</td>\n",
       "      <td>3</td>\n",
       "    </tr>\n",
       "  </tbody>\n",
       "</table>\n",
       "</div>"
      ],
      "text/plain": [
       "       job  marital  education  targeted  default  housing  loan  contact  \\\n",
       "24060    0        1          2         1        0        0     0        1   \n",
       "24062    0        2          1         1        0        1     1        1   \n",
       "24064    7        1          1         1        0        1     0        1   \n",
       "24072    4        1          2         1        0        1     0        1   \n",
       "24077    4        1          2         1        0        1     0        1   \n",
       "\n",
       "       month  poutcome  age  salary  balance  day  duration  campaign  pdays  \\\n",
       "24060     10         0   33   50000      882   21        39         1    151   \n",
       "24062     10         1   42   50000     -247   21       519         1    166   \n",
       "24064     10         0   33   70000     3444   21       144         1     91   \n",
       "24072     10         1   36  100000     2415   22        73         1     86   \n",
       "24077     10         0   36  100000        0   23       140         1    143   \n",
       "\n",
       "       previous  \n",
       "24060         3  \n",
       "24062         1  \n",
       "24064         4  \n",
       "24072         4  \n",
       "24077         3  "
      ]
     },
     "execution_count": 103,
     "metadata": {},
     "output_type": "execute_result"
    }
   ],
   "source": [
    "X = df3.drop(\"response\", axis=1)\n",
    "X.head()"
   ]
  },
  {
   "cell_type": "code",
   "execution_count": 104,
   "metadata": {},
   "outputs": [
    {
     "data": {
      "text/html": [
       "<div>\n",
       "<style scoped>\n",
       "    .dataframe tbody tr th:only-of-type {\n",
       "        vertical-align: middle;\n",
       "    }\n",
       "\n",
       "    .dataframe tbody tr th {\n",
       "        vertical-align: top;\n",
       "    }\n",
       "\n",
       "    .dataframe thead th {\n",
       "        text-align: right;\n",
       "    }\n",
       "</style>\n",
       "<table border=\"1\" class=\"dataframe\">\n",
       "  <thead>\n",
       "    <tr style=\"text-align: right;\">\n",
       "      <th></th>\n",
       "      <th>response</th>\n",
       "    </tr>\n",
       "  </thead>\n",
       "  <tbody>\n",
       "    <tr>\n",
       "      <th>24060</th>\n",
       "      <td>0</td>\n",
       "    </tr>\n",
       "    <tr>\n",
       "      <th>24062</th>\n",
       "      <td>1</td>\n",
       "    </tr>\n",
       "    <tr>\n",
       "      <th>24064</th>\n",
       "      <td>1</td>\n",
       "    </tr>\n",
       "    <tr>\n",
       "      <th>24072</th>\n",
       "      <td>0</td>\n",
       "    </tr>\n",
       "    <tr>\n",
       "      <th>24077</th>\n",
       "      <td>1</td>\n",
       "    </tr>\n",
       "  </tbody>\n",
       "</table>\n",
       "</div>"
      ],
      "text/plain": [
       "       response\n",
       "24060         0\n",
       "24062         1\n",
       "24064         1\n",
       "24072         0\n",
       "24077         1"
      ]
     },
     "execution_count": 104,
     "metadata": {},
     "output_type": "execute_result"
    }
   ],
   "source": [
    "y= df3[['response']]\n",
    "y.head()"
   ]
  },
  {
   "cell_type": "code",
   "execution_count": 105,
   "metadata": {},
   "outputs": [],
   "source": [
    "X_train,X_test,y_train,y_test = train_test_split(X,y,test_size = 0.2,random_state=101)"
   ]
  },
  {
   "cell_type": "code",
   "execution_count": 106,
   "metadata": {},
   "outputs": [
    {
     "name": "stdout",
     "output_type": "stream",
     "text": [
      "(8257, 18)\n",
      "(6605, 18)\n",
      "(1652, 18)\n"
     ]
    },
    {
     "data": {
      "text/html": [
       "<div>\n",
       "<style scoped>\n",
       "    .dataframe tbody tr th:only-of-type {\n",
       "        vertical-align: middle;\n",
       "    }\n",
       "\n",
       "    .dataframe tbody tr th {\n",
       "        vertical-align: top;\n",
       "    }\n",
       "\n",
       "    .dataframe thead th {\n",
       "        text-align: right;\n",
       "    }\n",
       "</style>\n",
       "<table border=\"1\" class=\"dataframe\">\n",
       "  <thead>\n",
       "    <tr style=\"text-align: right;\">\n",
       "      <th></th>\n",
       "      <th>job</th>\n",
       "      <th>marital</th>\n",
       "      <th>education</th>\n",
       "      <th>targeted</th>\n",
       "      <th>default</th>\n",
       "      <th>housing</th>\n",
       "      <th>loan</th>\n",
       "      <th>contact</th>\n",
       "      <th>month</th>\n",
       "      <th>poutcome</th>\n",
       "      <th>age</th>\n",
       "      <th>salary</th>\n",
       "      <th>balance</th>\n",
       "      <th>day</th>\n",
       "      <th>duration</th>\n",
       "      <th>campaign</th>\n",
       "      <th>pdays</th>\n",
       "      <th>previous</th>\n",
       "    </tr>\n",
       "  </thead>\n",
       "  <tbody>\n",
       "    <tr>\n",
       "      <th>40201</th>\n",
       "      <td>4</td>\n",
       "      <td>1</td>\n",
       "      <td>2</td>\n",
       "      <td>1</td>\n",
       "      <td>0</td>\n",
       "      <td>1</td>\n",
       "      <td>0</td>\n",
       "      <td>0</td>\n",
       "      <td>6</td>\n",
       "      <td>0</td>\n",
       "      <td>38</td>\n",
       "      <td>100000</td>\n",
       "      <td>1354</td>\n",
       "      <td>8</td>\n",
       "      <td>127</td>\n",
       "      <td>3</td>\n",
       "      <td>130</td>\n",
       "      <td>2</td>\n",
       "    </tr>\n",
       "  </tbody>\n",
       "</table>\n",
       "</div>"
      ],
      "text/plain": [
       "       job  marital  education  targeted  default  housing  loan  contact  \\\n",
       "40201    4        1          2         1        0        1     0        0   \n",
       "\n",
       "       month  poutcome  age  salary  balance  day  duration  campaign  pdays  \\\n",
       "40201      6         0   38  100000     1354    8       127         3    130   \n",
       "\n",
       "       previous  \n",
       "40201         2  "
      ]
     },
     "execution_count": 106,
     "metadata": {},
     "output_type": "execute_result"
    }
   ],
   "source": [
    "print(X.shape)\n",
    "print(X_train.shape)\n",
    "print(X_test.shape)\n",
    "X_train[:1]"
   ]
  },
  {
   "cell_type": "code",
   "execution_count": 107,
   "metadata": {},
   "outputs": [],
   "source": [
    "lr = LogisticRegression()"
   ]
  },
  {
   "cell_type": "code",
   "execution_count": 108,
   "metadata": {},
   "outputs": [
    {
     "data": {
      "text/plain": [
       "LogisticRegression()"
      ]
     },
     "execution_count": 108,
     "metadata": {},
     "output_type": "execute_result"
    }
   ],
   "source": [
    "lr.fit(X_train,y_train)"
   ]
  },
  {
   "cell_type": "code",
   "execution_count": 109,
   "metadata": {},
   "outputs": [
    {
     "data": {
      "text/plain": [
       "0.7813777441332325"
      ]
     },
     "execution_count": 109,
     "metadata": {},
     "output_type": "execute_result"
    }
   ],
   "source": [
    "cv_score= cross_val_score(lr,X_train,y_train, cv=5)\n",
    "np.mean(cv_score)"
   ]
  },
  {
   "cell_type": "code",
   "execution_count": 110,
   "metadata": {},
   "outputs": [],
   "source": [
    "y_pred = lr.predict(X_test)"
   ]
  },
  {
   "cell_type": "code",
   "execution_count": 111,
   "metadata": {},
   "outputs": [
    {
     "name": "stdout",
     "output_type": "stream",
     "text": [
      "              precision    recall  f1-score   support\n",
      "\n",
      "           0       0.80      0.96      0.87      1279\n",
      "           1       0.58      0.18      0.27       373\n",
      "\n",
      "    accuracy                           0.79      1652\n",
      "   macro avg       0.69      0.57      0.57      1652\n",
      "weighted avg       0.75      0.79      0.74      1652\n",
      "\n"
     ]
    }
   ],
   "source": [
    "print(classification_report(y_test, y_pred))"
   ]
  },
  {
   "cell_type": "code",
   "execution_count": 112,
   "metadata": {},
   "outputs": [
    {
     "data": {
      "text/plain": [
       "array([[1231,  306],\n",
       "       [  48,   67]], dtype=int64)"
      ]
     },
     "execution_count": 112,
     "metadata": {},
     "output_type": "execute_result"
    }
   ],
   "source": [
    "confusion_matrix(y_pred,y_test)"
   ]
  },
  {
   "cell_type": "code",
   "execution_count": 113,
   "metadata": {},
   "outputs": [
    {
     "data": {
      "text/plain": [
       "0.27459016393442626"
      ]
     },
     "execution_count": 113,
     "metadata": {},
     "output_type": "execute_result"
    }
   ],
   "source": [
    "f1_score(y_pred,y_test)"
   ]
  },
  {
   "cell_type": "markdown",
   "metadata": {},
   "source": [
    "<h3>RFE"
   ]
  },
  {
   "cell_type": "code",
   "execution_count": 114,
   "metadata": {},
   "outputs": [
    {
     "data": {
      "text/plain": [
       "RFE(estimator=LogisticRegression(), n_features_to_select=5)"
      ]
     },
     "execution_count": 114,
     "metadata": {},
     "output_type": "execute_result"
    }
   ],
   "source": [
    "from sklearn.feature_selection import RFE\n",
    "from sklearn.preprocessing import MinMaxScaler\n",
    "scaler = MinMaxScaler()\n",
    "rfe = RFE(lr, 5)\n",
    "rfe.fit(X_train,y_train)"
   ]
  },
  {
   "cell_type": "code",
   "execution_count": 115,
   "metadata": {},
   "outputs": [
    {
     "data": {
      "text/plain": [
       "array([False, False, False, False,  True,  True,  True,  True, False,\n",
       "        True, False, False, False, False, False, False, False, False])"
      ]
     },
     "execution_count": 115,
     "metadata": {},
     "output_type": "execute_result"
    }
   ],
   "source": [
    "rfe.support_"
   ]
  },
  {
   "cell_type": "code",
   "execution_count": 116,
   "metadata": {},
   "outputs": [
    {
     "data": {
      "text/plain": [
       "Index(['default', 'housing', 'loan', 'contact', 'poutcome'], dtype='object')"
      ]
     },
     "execution_count": 116,
     "metadata": {},
     "output_type": "execute_result"
    }
   ],
   "source": [
    "X_train.columns[rfe.support_]"
   ]
  },
  {
   "cell_type": "code",
   "execution_count": 117,
   "metadata": {},
   "outputs": [],
   "source": [
    "cols = X_train.columns[rfe.support_]"
   ]
  },
  {
   "cell_type": "code",
   "execution_count": 118,
   "metadata": {},
   "outputs": [
    {
     "data": {
      "text/plain": [
       "LogisticRegression()"
      ]
     },
     "execution_count": 118,
     "metadata": {},
     "output_type": "execute_result"
    }
   ],
   "source": [
    "lr.fit(X_train[cols],y_train)"
   ]
  },
  {
   "cell_type": "code",
   "execution_count": 119,
   "metadata": {},
   "outputs": [],
   "source": [
    "y_pred2 = lr.predict(X_test[cols])"
   ]
  },
  {
   "cell_type": "code",
   "execution_count": 120,
   "metadata": {},
   "outputs": [
    {
     "data": {
      "text/plain": [
       "0.497391304347826"
      ]
     },
     "execution_count": 120,
     "metadata": {},
     "output_type": "execute_result"
    }
   ],
   "source": [
    "f1_score(y_pred2,y_test)"
   ]
  },
  {
   "cell_type": "code",
   "execution_count": 121,
   "metadata": {},
   "outputs": [
    {
     "data": {
      "text/plain": [
       "array([[1220,  230],\n",
       "       [  59,  143]], dtype=int64)"
      ]
     },
     "execution_count": 121,
     "metadata": {},
     "output_type": "execute_result"
    }
   ],
   "source": [
    "confusion_matrix(y_pred2,y_test)"
   ]
  },
  {
   "cell_type": "markdown",
   "metadata": {},
   "source": [
    "<h3>use statsmodel"
   ]
  },
  {
   "cell_type": "code",
   "execution_count": 122,
   "metadata": {},
   "outputs": [],
   "source": [
    "import statsmodels.api as sm"
   ]
  },
  {
   "cell_type": "code",
   "execution_count": 123,
   "metadata": {},
   "outputs": [
    {
     "data": {
      "text/html": [
       "<div>\n",
       "<style scoped>\n",
       "    .dataframe tbody tr th:only-of-type {\n",
       "        vertical-align: middle;\n",
       "    }\n",
       "\n",
       "    .dataframe tbody tr th {\n",
       "        vertical-align: top;\n",
       "    }\n",
       "\n",
       "    .dataframe thead th {\n",
       "        text-align: right;\n",
       "    }\n",
       "</style>\n",
       "<table border=\"1\" class=\"dataframe\">\n",
       "  <thead>\n",
       "    <tr style=\"text-align: right;\">\n",
       "      <th></th>\n",
       "      <th>job</th>\n",
       "      <th>marital</th>\n",
       "      <th>education</th>\n",
       "      <th>targeted</th>\n",
       "      <th>default</th>\n",
       "      <th>housing</th>\n",
       "      <th>loan</th>\n",
       "      <th>contact</th>\n",
       "      <th>month</th>\n",
       "      <th>poutcome</th>\n",
       "      <th>age</th>\n",
       "      <th>salary</th>\n",
       "      <th>balance</th>\n",
       "      <th>day</th>\n",
       "      <th>duration</th>\n",
       "      <th>campaign</th>\n",
       "      <th>pdays</th>\n",
       "      <th>previous</th>\n",
       "    </tr>\n",
       "  </thead>\n",
       "  <tbody>\n",
       "    <tr>\n",
       "      <th>40201</th>\n",
       "      <td>4</td>\n",
       "      <td>1</td>\n",
       "      <td>2</td>\n",
       "      <td>1</td>\n",
       "      <td>0</td>\n",
       "      <td>1</td>\n",
       "      <td>0</td>\n",
       "      <td>0</td>\n",
       "      <td>6</td>\n",
       "      <td>0</td>\n",
       "      <td>38</td>\n",
       "      <td>100000</td>\n",
       "      <td>1354</td>\n",
       "      <td>8</td>\n",
       "      <td>127</td>\n",
       "      <td>3</td>\n",
       "      <td>130</td>\n",
       "      <td>2</td>\n",
       "    </tr>\n",
       "    <tr>\n",
       "      <th>38253</th>\n",
       "      <td>1</td>\n",
       "      <td>2</td>\n",
       "      <td>1</td>\n",
       "      <td>1</td>\n",
       "      <td>0</td>\n",
       "      <td>1</td>\n",
       "      <td>0</td>\n",
       "      <td>0</td>\n",
       "      <td>8</td>\n",
       "      <td>0</td>\n",
       "      <td>33</td>\n",
       "      <td>20000</td>\n",
       "      <td>1211</td>\n",
       "      <td>15</td>\n",
       "      <td>39</td>\n",
       "      <td>1</td>\n",
       "      <td>361</td>\n",
       "      <td>4</td>\n",
       "    </tr>\n",
       "    <tr>\n",
       "      <th>33245</th>\n",
       "      <td>1</td>\n",
       "      <td>2</td>\n",
       "      <td>1</td>\n",
       "      <td>1</td>\n",
       "      <td>0</td>\n",
       "      <td>0</td>\n",
       "      <td>0</td>\n",
       "      <td>0</td>\n",
       "      <td>0</td>\n",
       "      <td>0</td>\n",
       "      <td>33</td>\n",
       "      <td>20000</td>\n",
       "      <td>15341</td>\n",
       "      <td>20</td>\n",
       "      <td>335</td>\n",
       "      <td>1</td>\n",
       "      <td>334</td>\n",
       "      <td>3</td>\n",
       "    </tr>\n",
       "    <tr>\n",
       "      <th>44316</th>\n",
       "      <td>3</td>\n",
       "      <td>0</td>\n",
       "      <td>0</td>\n",
       "      <td>1</td>\n",
       "      <td>0</td>\n",
       "      <td>0</td>\n",
       "      <td>0</td>\n",
       "      <td>0</td>\n",
       "      <td>5</td>\n",
       "      <td>0</td>\n",
       "      <td>82</td>\n",
       "      <td>16000</td>\n",
       "      <td>1381</td>\n",
       "      <td>28</td>\n",
       "      <td>844</td>\n",
       "      <td>5</td>\n",
       "      <td>181</td>\n",
       "      <td>4</td>\n",
       "    </tr>\n",
       "    <tr>\n",
       "      <th>28642</th>\n",
       "      <td>4</td>\n",
       "      <td>0</td>\n",
       "      <td>2</td>\n",
       "      <td>0</td>\n",
       "      <td>0</td>\n",
       "      <td>1</td>\n",
       "      <td>1</td>\n",
       "      <td>0</td>\n",
       "      <td>4</td>\n",
       "      <td>0</td>\n",
       "      <td>46</td>\n",
       "      <td>100000</td>\n",
       "      <td>-154</td>\n",
       "      <td>29</td>\n",
       "      <td>150</td>\n",
       "      <td>2</td>\n",
       "      <td>247</td>\n",
       "      <td>2</td>\n",
       "    </tr>\n",
       "  </tbody>\n",
       "</table>\n",
       "</div>"
      ],
      "text/plain": [
       "       job  marital  education  targeted  default  housing  loan  contact  \\\n",
       "40201    4        1          2         1        0        1     0        0   \n",
       "38253    1        2          1         1        0        1     0        0   \n",
       "33245    1        2          1         1        0        0     0        0   \n",
       "44316    3        0          0         1        0        0     0        0   \n",
       "28642    4        0          2         0        0        1     1        0   \n",
       "\n",
       "       month  poutcome  age  salary  balance  day  duration  campaign  pdays  \\\n",
       "40201      6         0   38  100000     1354    8       127         3    130   \n",
       "38253      8         0   33   20000     1211   15        39         1    361   \n",
       "33245      0         0   33   20000    15341   20       335         1    334   \n",
       "44316      5         0   82   16000     1381   28       844         5    181   \n",
       "28642      4         0   46  100000     -154   29       150         2    247   \n",
       "\n",
       "       previous  \n",
       "40201         2  \n",
       "38253         4  \n",
       "33245         3  \n",
       "44316         4  \n",
       "28642         2  "
      ]
     },
     "execution_count": 123,
     "metadata": {},
     "output_type": "execute_result"
    }
   ],
   "source": [
    "X_train.head()"
   ]
  },
  {
   "cell_type": "markdown",
   "metadata": {},
   "source": [
    "<b>Add intercept manually for statsmodel to work"
   ]
  },
  {
   "cell_type": "code",
   "execution_count": 124,
   "metadata": {},
   "outputs": [
    {
     "data": {
      "text/html": [
       "<div>\n",
       "<style scoped>\n",
       "    .dataframe tbody tr th:only-of-type {\n",
       "        vertical-align: middle;\n",
       "    }\n",
       "\n",
       "    .dataframe tbody tr th {\n",
       "        vertical-align: top;\n",
       "    }\n",
       "\n",
       "    .dataframe thead th {\n",
       "        text-align: right;\n",
       "    }\n",
       "</style>\n",
       "<table border=\"1\" class=\"dataframe\">\n",
       "  <thead>\n",
       "    <tr style=\"text-align: right;\">\n",
       "      <th></th>\n",
       "      <th>const</th>\n",
       "      <th>default</th>\n",
       "      <th>housing</th>\n",
       "      <th>loan</th>\n",
       "      <th>contact</th>\n",
       "      <th>poutcome</th>\n",
       "    </tr>\n",
       "  </thead>\n",
       "  <tbody>\n",
       "    <tr>\n",
       "      <th>40201</th>\n",
       "      <td>1.0</td>\n",
       "      <td>0</td>\n",
       "      <td>1</td>\n",
       "      <td>0</td>\n",
       "      <td>0</td>\n",
       "      <td>0</td>\n",
       "    </tr>\n",
       "    <tr>\n",
       "      <th>38253</th>\n",
       "      <td>1.0</td>\n",
       "      <td>0</td>\n",
       "      <td>1</td>\n",
       "      <td>0</td>\n",
       "      <td>0</td>\n",
       "      <td>0</td>\n",
       "    </tr>\n",
       "    <tr>\n",
       "      <th>33245</th>\n",
       "      <td>1.0</td>\n",
       "      <td>0</td>\n",
       "      <td>0</td>\n",
       "      <td>0</td>\n",
       "      <td>0</td>\n",
       "      <td>0</td>\n",
       "    </tr>\n",
       "    <tr>\n",
       "      <th>44316</th>\n",
       "      <td>1.0</td>\n",
       "      <td>0</td>\n",
       "      <td>0</td>\n",
       "      <td>0</td>\n",
       "      <td>0</td>\n",
       "      <td>0</td>\n",
       "    </tr>\n",
       "    <tr>\n",
       "      <th>28642</th>\n",
       "      <td>1.0</td>\n",
       "      <td>0</td>\n",
       "      <td>1</td>\n",
       "      <td>1</td>\n",
       "      <td>0</td>\n",
       "      <td>0</td>\n",
       "    </tr>\n",
       "  </tbody>\n",
       "</table>\n",
       "</div>"
      ],
      "text/plain": [
       "       const  default  housing  loan  contact  poutcome\n",
       "40201    1.0        0        1     0        0         0\n",
       "38253    1.0        0        1     0        0         0\n",
       "33245    1.0        0        0     0        0         0\n",
       "44316    1.0        0        0     0        0         0\n",
       "28642    1.0        0        1     1        0         0"
      ]
     },
     "execution_count": 124,
     "metadata": {},
     "output_type": "execute_result"
    }
   ],
   "source": [
    "X_train_sm = sm.add_constant(X_train[cols])\n",
    "X_train_sm.head()"
   ]
  },
  {
   "cell_type": "code",
   "execution_count": 125,
   "metadata": {},
   "outputs": [],
   "source": [
    "lr1 = sm.OLS(y_train, X_train_sm).fit()"
   ]
  },
  {
   "cell_type": "code",
   "execution_count": 126,
   "metadata": {},
   "outputs": [
    {
     "data": {
      "text/html": [
       "<table class=\"simpletable\">\n",
       "<caption>OLS Regression Results</caption>\n",
       "<tr>\n",
       "  <th>Dep. Variable:</th>        <td>response</td>     <th>  R-squared:         </th> <td>   0.219</td>\n",
       "</tr>\n",
       "<tr>\n",
       "  <th>Model:</th>                   <td>OLS</td>       <th>  Adj. R-squared:    </th> <td>   0.219</td>\n",
       "</tr>\n",
       "<tr>\n",
       "  <th>Method:</th>             <td>Least Squares</td>  <th>  F-statistic:       </th> <td>   371.1</td>\n",
       "</tr>\n",
       "<tr>\n",
       "  <th>Date:</th>             <td>Thu, 22 Jul 2021</td> <th>  Prob (F-statistic):</th>  <td>  0.00</td> \n",
       "</tr>\n",
       "<tr>\n",
       "  <th>Time:</th>                 <td>15:40:23</td>     <th>  Log-Likelihood:    </th> <td> -2856.4</td>\n",
       "</tr>\n",
       "<tr>\n",
       "  <th>No. Observations:</th>      <td>  6605</td>      <th>  AIC:               </th> <td>   5725.</td>\n",
       "</tr>\n",
       "<tr>\n",
       "  <th>Df Residuals:</th>          <td>  6599</td>      <th>  BIC:               </th> <td>   5766.</td>\n",
       "</tr>\n",
       "<tr>\n",
       "  <th>Df Model:</th>              <td>     5</td>      <th>                     </th>     <td> </td>   \n",
       "</tr>\n",
       "<tr>\n",
       "  <th>Covariance Type:</th>      <td>nonrobust</td>    <th>                     </th>     <td> </td>   \n",
       "</tr>\n",
       "</table>\n",
       "<table class=\"simpletable\">\n",
       "<tr>\n",
       "      <td></td>        <th>coef</th>     <th>std err</th>      <th>t</th>      <th>P>|t|</th>  <th>[0.025</th>    <th>0.975]</th>  \n",
       "</tr>\n",
       "<tr>\n",
       "  <th>const</th>    <td>    0.2470</td> <td>    0.009</td> <td>   26.030</td> <td> 0.000</td> <td>    0.228</td> <td>    0.266</td>\n",
       "</tr>\n",
       "<tr>\n",
       "  <th>default</th>  <td>   -0.0998</td> <td>    0.053</td> <td>   -1.880</td> <td> 0.060</td> <td>   -0.204</td> <td>    0.004</td>\n",
       "</tr>\n",
       "<tr>\n",
       "  <th>housing</th>  <td>   -0.1834</td> <td>    0.010</td> <td>  -18.473</td> <td> 0.000</td> <td>   -0.203</td> <td>   -0.164</td>\n",
       "</tr>\n",
       "<tr>\n",
       "  <th>loan</th>     <td>   -0.0593</td> <td>    0.014</td> <td>   -4.387</td> <td> 0.000</td> <td>   -0.086</td> <td>   -0.033</td>\n",
       "</tr>\n",
       "<tr>\n",
       "  <th>contact</th>  <td>   -0.0567</td> <td>    0.014</td> <td>   -3.929</td> <td> 0.000</td> <td>   -0.085</td> <td>   -0.028</td>\n",
       "</tr>\n",
       "<tr>\n",
       "  <th>poutcome</th> <td>    0.1895</td> <td>    0.006</td> <td>   30.937</td> <td> 0.000</td> <td>    0.177</td> <td>    0.201</td>\n",
       "</tr>\n",
       "</table>\n",
       "<table class=\"simpletable\">\n",
       "<tr>\n",
       "  <th>Omnibus:</th>       <td>767.943</td> <th>  Durbin-Watson:     </th> <td>   1.997</td> \n",
       "</tr>\n",
       "<tr>\n",
       "  <th>Prob(Omnibus):</th> <td> 0.000</td>  <th>  Jarque-Bera (JB):  </th> <td>1060.272</td> \n",
       "</tr>\n",
       "<tr>\n",
       "  <th>Skew:</th>          <td> 0.968</td>  <th>  Prob(JB):          </th> <td>5.82e-231</td>\n",
       "</tr>\n",
       "<tr>\n",
       "  <th>Kurtosis:</th>      <td> 3.320</td>  <th>  Cond. No.          </th> <td>    16.0</td> \n",
       "</tr>\n",
       "</table><br/><br/>Notes:<br/>[1] Standard Errors assume that the covariance matrix of the errors is correctly specified."
      ],
      "text/plain": [
       "<class 'statsmodels.iolib.summary.Summary'>\n",
       "\"\"\"\n",
       "                            OLS Regression Results                            \n",
       "==============================================================================\n",
       "Dep. Variable:               response   R-squared:                       0.219\n",
       "Model:                            OLS   Adj. R-squared:                  0.219\n",
       "Method:                 Least Squares   F-statistic:                     371.1\n",
       "Date:                Thu, 22 Jul 2021   Prob (F-statistic):               0.00\n",
       "Time:                        15:40:23   Log-Likelihood:                -2856.4\n",
       "No. Observations:                6605   AIC:                             5725.\n",
       "Df Residuals:                    6599   BIC:                             5766.\n",
       "Df Model:                           5                                         \n",
       "Covariance Type:            nonrobust                                         \n",
       "==============================================================================\n",
       "                 coef    std err          t      P>|t|      [0.025      0.975]\n",
       "------------------------------------------------------------------------------\n",
       "const          0.2470      0.009     26.030      0.000       0.228       0.266\n",
       "default       -0.0998      0.053     -1.880      0.060      -0.204       0.004\n",
       "housing       -0.1834      0.010    -18.473      0.000      -0.203      -0.164\n",
       "loan          -0.0593      0.014     -4.387      0.000      -0.086      -0.033\n",
       "contact       -0.0567      0.014     -3.929      0.000      -0.085      -0.028\n",
       "poutcome       0.1895      0.006     30.937      0.000       0.177       0.201\n",
       "==============================================================================\n",
       "Omnibus:                      767.943   Durbin-Watson:                   1.997\n",
       "Prob(Omnibus):                  0.000   Jarque-Bera (JB):             1060.272\n",
       "Skew:                           0.968   Prob(JB):                    5.82e-231\n",
       "Kurtosis:                       3.320   Cond. No.                         16.0\n",
       "==============================================================================\n",
       "\n",
       "Notes:\n",
       "[1] Standard Errors assume that the covariance matrix of the errors is correctly specified.\n",
       "\"\"\""
      ]
     },
     "execution_count": 126,
     "metadata": {},
     "output_type": "execute_result"
    }
   ],
   "source": [
    "lr1.summary()"
   ]
  },
  {
   "cell_type": "markdown",
   "metadata": {},
   "source": [
    "<h3>VIF"
   ]
  },
  {
   "cell_type": "code",
   "execution_count": 127,
   "metadata": {},
   "outputs": [],
   "source": [
    "from statsmodels.stats.outliers_influence import variance_inflation_factor"
   ]
  },
  {
   "cell_type": "code",
   "execution_count": 128,
   "metadata": {},
   "outputs": [
    {
     "data": {
      "text/html": [
       "<div>\n",
       "<style scoped>\n",
       "    .dataframe tbody tr th:only-of-type {\n",
       "        vertical-align: middle;\n",
       "    }\n",
       "\n",
       "    .dataframe tbody tr th {\n",
       "        vertical-align: top;\n",
       "    }\n",
       "\n",
       "    .dataframe thead th {\n",
       "        text-align: right;\n",
       "    }\n",
       "</style>\n",
       "<table border=\"1\" class=\"dataframe\">\n",
       "  <thead>\n",
       "    <tr style=\"text-align: right;\">\n",
       "      <th></th>\n",
       "      <th>Features</th>\n",
       "      <th>VIF</th>\n",
       "    </tr>\n",
       "  </thead>\n",
       "  <tbody>\n",
       "    <tr>\n",
       "      <th>10</th>\n",
       "      <td>age</td>\n",
       "      <td>11.72</td>\n",
       "    </tr>\n",
       "    <tr>\n",
       "      <th>3</th>\n",
       "      <td>targeted</td>\n",
       "      <td>6.43</td>\n",
       "    </tr>\n",
       "    <tr>\n",
       "      <th>2</th>\n",
       "      <td>education</td>\n",
       "      <td>6.39</td>\n",
       "    </tr>\n",
       "    <tr>\n",
       "      <th>11</th>\n",
       "      <td>salary</td>\n",
       "      <td>5.32</td>\n",
       "    </tr>\n",
       "    <tr>\n",
       "      <th>16</th>\n",
       "      <td>pdays</td>\n",
       "      <td>5.21</td>\n",
       "    </tr>\n",
       "    <tr>\n",
       "      <th>1</th>\n",
       "      <td>marital</td>\n",
       "      <td>4.37</td>\n",
       "    </tr>\n",
       "    <tr>\n",
       "      <th>13</th>\n",
       "      <td>day</td>\n",
       "      <td>4.10</td>\n",
       "    </tr>\n",
       "    <tr>\n",
       "      <th>8</th>\n",
       "      <td>month</td>\n",
       "      <td>3.59</td>\n",
       "    </tr>\n",
       "    <tr>\n",
       "      <th>5</th>\n",
       "      <td>housing</td>\n",
       "      <td>3.15</td>\n",
       "    </tr>\n",
       "    <tr>\n",
       "      <th>0</th>\n",
       "      <td>job</td>\n",
       "      <td>2.91</td>\n",
       "    </tr>\n",
       "    <tr>\n",
       "      <th>15</th>\n",
       "      <td>campaign</td>\n",
       "      <td>2.78</td>\n",
       "    </tr>\n",
       "    <tr>\n",
       "      <th>14</th>\n",
       "      <td>duration</td>\n",
       "      <td>2.27</td>\n",
       "    </tr>\n",
       "    <tr>\n",
       "      <th>9</th>\n",
       "      <td>poutcome</td>\n",
       "      <td>1.75</td>\n",
       "    </tr>\n",
       "    <tr>\n",
       "      <th>17</th>\n",
       "      <td>previous</td>\n",
       "      <td>1.47</td>\n",
       "    </tr>\n",
       "    <tr>\n",
       "      <th>12</th>\n",
       "      <td>balance</td>\n",
       "      <td>1.31</td>\n",
       "    </tr>\n",
       "    <tr>\n",
       "      <th>6</th>\n",
       "      <td>loan</td>\n",
       "      <td>1.20</td>\n",
       "    </tr>\n",
       "    <tr>\n",
       "      <th>7</th>\n",
       "      <td>contact</td>\n",
       "      <td>1.14</td>\n",
       "    </tr>\n",
       "    <tr>\n",
       "      <th>4</th>\n",
       "      <td>default</td>\n",
       "      <td>1.02</td>\n",
       "    </tr>\n",
       "  </tbody>\n",
       "</table>\n",
       "</div>"
      ],
      "text/plain": [
       "     Features    VIF\n",
       "10        age  11.72\n",
       "3    targeted   6.43\n",
       "2   education   6.39\n",
       "11     salary   5.32\n",
       "16      pdays   5.21\n",
       "1     marital   4.37\n",
       "13        day   4.10\n",
       "8       month   3.59\n",
       "5     housing   3.15\n",
       "0         job   2.91\n",
       "15   campaign   2.78\n",
       "14   duration   2.27\n",
       "9    poutcome   1.75\n",
       "17   previous   1.47\n",
       "12    balance   1.31\n",
       "6        loan   1.20\n",
       "7     contact   1.14\n",
       "4     default   1.02"
      ]
     },
     "execution_count": 128,
     "metadata": {},
     "output_type": "execute_result"
    }
   ],
   "source": [
    "# Create a dataframe that will contain the names of all the feature variables and their respective VIFs\n",
    "vif = pd.DataFrame()\n",
    "vif['Features'] = X_train.columns\n",
    "vif['VIF'] = [variance_inflation_factor(X_train.values, i) for i in range(X_train.shape[1])]\n",
    "vif['VIF'] = round(vif['VIF'], 2)\n",
    "vif = vif.sort_values(by = \"VIF\", ascending = False)\n",
    "vif"
   ]
  },
  {
   "cell_type": "markdown",
   "metadata": {},
   "source": [
    "Housing, loan, default, poutcome are imp feature from logistic regression model perspective"
   ]
  },
  {
   "cell_type": "markdown",
   "metadata": {},
   "source": [
    "<h2>Predictive model 2: Random Forest "
   ]
  },
  {
   "cell_type": "code",
   "execution_count": 129,
   "metadata": {},
   "outputs": [],
   "source": [
    "from sklearn.ensemble import RandomForestClassifier"
   ]
  },
  {
   "cell_type": "code",
   "execution_count": 130,
   "metadata": {},
   "outputs": [],
   "source": [
    "rfc = RandomForestClassifier(max_depth=5, random_state=42,max_leaf_nodes=50)"
   ]
  },
  {
   "cell_type": "code",
   "execution_count": 131,
   "metadata": {},
   "outputs": [
    {
     "data": {
      "text/plain": [
       "RandomForestClassifier(max_depth=5, max_leaf_nodes=50, random_state=42)"
      ]
     },
     "execution_count": 131,
     "metadata": {},
     "output_type": "execute_result"
    }
   ],
   "source": [
    "rfc.fit(X_train,y_train)"
   ]
  },
  {
   "cell_type": "code",
   "execution_count": 132,
   "metadata": {},
   "outputs": [
    {
     "data": {
      "text/plain": [
       "0.8376987130961393"
      ]
     },
     "execution_count": 132,
     "metadata": {},
     "output_type": "execute_result"
    }
   ],
   "source": [
    "cv1_score= cross_val_score(rfc,X_train,y_train, cv=5)\n",
    "np.mean(cv1_score)"
   ]
  },
  {
   "cell_type": "code",
   "execution_count": 133,
   "metadata": {},
   "outputs": [],
   "source": [
    "y_pred1 = rfc.predict(X_test)"
   ]
  },
  {
   "cell_type": "code",
   "execution_count": 134,
   "metadata": {},
   "outputs": [
    {
     "name": "stdout",
     "output_type": "stream",
     "text": [
      "              precision    recall  f1-score   support\n",
      "\n",
      "           0       0.85      0.97      0.91      1279\n",
      "           1       0.79      0.42      0.55       373\n",
      "\n",
      "    accuracy                           0.85      1652\n",
      "   macro avg       0.82      0.70      0.73      1652\n",
      "weighted avg       0.84      0.85      0.83      1652\n",
      "\n"
     ]
    }
   ],
   "source": [
    "print(classification_report(y_test, y_pred1))"
   ]
  },
  {
   "cell_type": "code",
   "execution_count": 135,
   "metadata": {},
   "outputs": [
    {
     "data": {
      "text/plain": [
       "0.5524475524475525"
      ]
     },
     "execution_count": 135,
     "metadata": {},
     "output_type": "execute_result"
    }
   ],
   "source": [
    "f1_score(y_test,y_pred1)"
   ]
  },
  {
   "cell_type": "code",
   "execution_count": 136,
   "metadata": {},
   "outputs": [
    {
     "data": {
      "text/plain": [
       "array([[1238,   41],\n",
       "       [ 215,  158]], dtype=int64)"
      ]
     },
     "execution_count": 136,
     "metadata": {},
     "output_type": "execute_result"
    }
   ],
   "source": [
    "confusion_matrix(y_test,y_pred1)"
   ]
  },
  {
   "cell_type": "code",
   "execution_count": 137,
   "metadata": {},
   "outputs": [],
   "source": [
    "from sklearn.metrics import roc_auc_score"
   ]
  },
  {
   "cell_type": "code",
   "execution_count": 138,
   "metadata": {},
   "outputs": [
    {
     "data": {
      "text/plain": [
       "0.6957680996589578"
      ]
     },
     "execution_count": 138,
     "metadata": {},
     "output_type": "execute_result"
    }
   ],
   "source": [
    "roc_auc_score(y_test,y_pred1)"
   ]
  },
  {
   "cell_type": "markdown",
   "metadata": {},
   "source": [
    "<h3>RFE"
   ]
  },
  {
   "cell_type": "code",
   "execution_count": 139,
   "metadata": {},
   "outputs": [
    {
     "data": {
      "text/plain": [
       "RFE(estimator=RandomForestClassifier(max_depth=5, max_leaf_nodes=50,\n",
       "                                     random_state=42),\n",
       "    n_features_to_select=5)"
      ]
     },
     "execution_count": 139,
     "metadata": {},
     "output_type": "execute_result"
    }
   ],
   "source": [
    "from sklearn.feature_selection import RFE\n",
    "from sklearn.preprocessing import MinMaxScaler\n",
    "scaler = MinMaxScaler()\n",
    "rfe1 = RFE(rfc, 5)\n",
    "rfe1.fit(X_train,y_train)"
   ]
  },
  {
   "cell_type": "code",
   "execution_count": 140,
   "metadata": {},
   "outputs": [
    {
     "data": {
      "text/plain": [
       "array([False, False, False, False, False,  True, False, False,  True,\n",
       "        True, False, False, False, False,  True, False,  True, False])"
      ]
     },
     "execution_count": 140,
     "metadata": {},
     "output_type": "execute_result"
    }
   ],
   "source": [
    "rfe1.support_"
   ]
  },
  {
   "cell_type": "code",
   "execution_count": 141,
   "metadata": {},
   "outputs": [
    {
     "data": {
      "text/plain": [
       "Index(['housing', 'month', 'poutcome', 'duration', 'pdays'], dtype='object')"
      ]
     },
     "execution_count": 141,
     "metadata": {},
     "output_type": "execute_result"
    }
   ],
   "source": [
    "X_train.columns[rfe1.support_]"
   ]
  },
  {
   "cell_type": "code",
   "execution_count": 142,
   "metadata": {},
   "outputs": [],
   "source": [
    "cols = X_train.columns[rfe1.support_]"
   ]
  },
  {
   "cell_type": "code",
   "execution_count": 143,
   "metadata": {},
   "outputs": [
    {
     "data": {
      "text/plain": [
       "RandomForestClassifier(max_depth=5, max_leaf_nodes=50, random_state=42)"
      ]
     },
     "execution_count": 143,
     "metadata": {},
     "output_type": "execute_result"
    }
   ],
   "source": [
    "rfc.fit(X_train[cols],y_train)"
   ]
  },
  {
   "cell_type": "code",
   "execution_count": 144,
   "metadata": {},
   "outputs": [],
   "source": [
    "y_pred3 = rfc.predict(X_test[cols])"
   ]
  },
  {
   "cell_type": "code",
   "execution_count": 145,
   "metadata": {},
   "outputs": [
    {
     "data": {
      "text/plain": [
       "0.5928338762214984"
      ]
     },
     "execution_count": 145,
     "metadata": {},
     "output_type": "execute_result"
    }
   ],
   "source": [
    "f1_score(y_pred3,y_test)"
   ]
  },
  {
   "cell_type": "code",
   "execution_count": 146,
   "metadata": {},
   "outputs": [
    {
     "data": {
      "text/plain": [
       "array([[1220,  191],\n",
       "       [  59,  182]], dtype=int64)"
      ]
     },
     "execution_count": 146,
     "metadata": {},
     "output_type": "execute_result"
    }
   ],
   "source": [
    "confusion_matrix(y_pred3,y_test)"
   ]
  },
  {
   "cell_type": "markdown",
   "metadata": {},
   "source": [
    "Housing, month, pdays, poutcome, duration are imp feature from RANDOM FOREST perspective."
   ]
  }
 ],
 "metadata": {
  "kernelspec": {
   "display_name": "Python 3",
   "language": "python",
   "name": "python3"
  },
  "language_info": {
   "codemirror_mode": {
    "name": "ipython",
    "version": 3
   },
   "file_extension": ".py",
   "mimetype": "text/x-python",
   "name": "python",
   "nbconvert_exporter": "python",
   "pygments_lexer": "ipython3",
   "version": "3.8.5"
  }
 },
 "nbformat": 4,
 "nbformat_minor": 4
}
